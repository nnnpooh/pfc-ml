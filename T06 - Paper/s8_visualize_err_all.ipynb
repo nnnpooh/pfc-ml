{
 "cells": [
  {
   "cell_type": "code",
   "execution_count": 99,
   "metadata": {},
   "outputs": [],
   "source": [
    "import os, sys\n",
    "import numpy as np\n",
    "import matplotlib.pyplot as plt\n",
    "from utils import read_data\n",
    "import seaborn as sns\n",
    "import pandas as pd"
   ]
  },
  {
   "cell_type": "code",
   "execution_count": 100,
   "metadata": {},
   "outputs": [],
   "source": [
    "def getBoxPlot(row):\n",
    "    des = row.describe()\n",
    "    upper_quartile = des[\"75%\"]\n",
    "    lower_quartile = des[\"25%\"]\n",
    "    iqr = upper_quartile - lower_quartile\n",
    "\n",
    "    upper_whisker = row[row <= (upper_quartile + 1.5 * iqr)].max()\n",
    "    lower_whisker = row[row >= (lower_quartile - 1.5 * iqr)].min()\n",
    "    return lower_whisker, upper_whisker"
   ]
  },
  {
   "cell_type": "code",
   "execution_count": 101,
   "metadata": {},
   "outputs": [],
   "source": [
    "def getData(modelName, mode, cutoffRow=None):\n",
    "    if mode == \"TRAIN\":\n",
    "        sourceFolder = \"o7_analyze_train\"\n",
    "    elif mode == \"TEST\":\n",
    "        sourceFolder = \"o7_analyze_test\"\n",
    "    else:\n",
    "        raise ValueError(\"Unknown mode\")\n",
    "    sourceFolder = os.path.join(sourceFolder, modelName)\n",
    "\n",
    "    cwd = sys.path[0]\n",
    "    outputFolderPath = os.path.join(cwd, sourceFolder)\n",
    "    folderNames = os.listdir(outputFolderPath)\n",
    "\n",
    "    data = {}\n",
    "    for folderName in folderNames:\n",
    "        folderPath = os.path.join(outputFolderPath, folderName)\n",
    "        data_pickle, data_json = read_data(folderPath)\n",
    "        valueArray = data_pickle[\"mapeArray\"]\n",
    "        data[folderName] = valueArray\n",
    "\n",
    "    tArrayPred = data_pickle[\"tArrayPred\"]\n",
    "    df = pd.DataFrame(data=data, index=tArrayPred)\n",
    "\n",
    "    if cutoffRow is not None:\n",
    "        df = df.iloc[:cutoffRow, :]\n",
    "\n",
    "    # Create long form data\n",
    "    dft = df.copy()\n",
    "    dft[\"time\"] = dft.index\n",
    "    value_vars = [col for col in dft.columns.values if col != \"time\"]\n",
    "    dfLong = pd.melt(\n",
    "        dft, id_vars=[\"time\"], value_vars=value_vars, var_name=\"folder\", value_name=\"value\"\n",
    "    )\n",
    "    dfLong[\"model\"] = modelName\n",
    "\n",
    "    # Create wide form data\n",
    "    dfWide = df.copy()\n",
    "    dfWide[\"mean\"] = dfWide.apply(lambda row: row.describe()[\"mean\"], axis=1)\n",
    "    dfWide[\"std\"] = dfWide.apply(lambda row: row.describe()[\"std\"], axis=1)\n",
    "    dfWide[\"25%\"] = dfWide.apply(lambda row: row.describe()[\"25%\"], axis=1)\n",
    "    dfWide[\"75%\"] = dfWide.apply(lambda row: row.describe()[\"75%\"], axis=1)\n",
    "    dfWide[\"lower_whisker\"] = dfWide.apply(lambda row: getBoxPlot(row)[0], axis=1)\n",
    "    dfWide[\"upper_whisker\"] = dfWide.apply(lambda row: getBoxPlot(row)[1], axis=1)\n",
    "    dfWide[\"median\"] = dfWide.apply(lambda row: row.median(), axis=1)\n",
    "\n",
    "    return df, dfLong, dfWide\n"
   ]
  },
  {
   "cell_type": "code",
   "execution_count": 102,
   "metadata": {},
   "outputs": [],
   "source": [
    "mode = \"TEST\"\n",
    "modelNames = [\"p2\", \"p4\", \"p8\", \"p16\", \"m1\", \"m2\", \"m4\", \"m8\", \"m16\", \"m32\"]"
   ]
  },
  {
   "cell_type": "code",
   "execution_count": 103,
   "metadata": {},
   "outputs": [],
   "source": [
    "cutoffRow = 50\n",
    "dfLongArray = []\n",
    "for modelName in modelNames:\n",
    "    df, dfLong, dfWide = getData(modelName, mode, cutoffRow=cutoffRow)\n",
    "    dfLongArray.append(dfLong)\n",
    "\n",
    "dfLongAppended = pd.concat(dfLongArray)\n"
   ]
  },
  {
   "cell_type": "code",
   "execution_count": 104,
   "metadata": {},
   "outputs": [
    {
     "data": {
      "text/plain": [
       "(16450, 4)"
      ]
     },
     "execution_count": 104,
     "metadata": {},
     "output_type": "execute_result"
    }
   ],
   "source": [
    "dfLongAppended.shape"
   ]
  },
  {
   "cell_type": "code",
   "execution_count": 108,
   "metadata": {},
   "outputs": [
    {
     "data": {
      "text/plain": [
       "<Axes: xlabel='model', ylabel='value'>"
      ]
     },
     "execution_count": 108,
     "metadata": {},
     "output_type": "execute_result"
    },
    {
     "data": {
      "image/png": "[encoded data removed]",
      "text/plain": [
       "<Figure size 1000x500 with 1 Axes>"
      ]
     },
     "metadata": {},
     "output_type": "display_data"
    }
   ],
   "source": [
    "sns.set_theme()\n",
    "fig, ax = plt.subplots(figsize=(10,5))\n",
    "sns.violinplot(data=dfLongAppended, x=\"model\", y=\"value\", ax=ax)"
   ]
  }
 ],
 "metadata": {
  "kernelspec": {
   "display_name": "pfc",
   "language": "python",
   "name": "python3"
  },
  "language_info": {
   "codemirror_mode": {
    "name": "ipython",
    "version": 3
   },
   "file_extension": ".py",
   "mimetype": "text/x-python",
   "name": "python",
   "nbconvert_exporter": "python",
   "pygments_lexer": "ipython3",
   "version": "3.10.12"
  }
 },
 "nbformat": 4,
 "nbformat_minor": 2
}
