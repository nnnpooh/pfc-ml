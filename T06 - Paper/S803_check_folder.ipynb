{
 "cells": [
  {
   "cell_type": "code",
   "execution_count": 1,
   "metadata": {},
   "outputs": [],
   "source": [
    "import matplotlib.pyplot as plt\n",
    "import seaborn as sns\n",
    "import pandas as pd\n",
    "from utilsVisualize import getModelDataNum\n",
    "import numpy as np"
   ]
  },
  {
   "cell_type": "code",
   "execution_count": 2,
   "metadata": {},
   "outputs": [],
   "source": [
    "mode = \"TEST\"\n",
    "modelNames = [\"p2\", \"p4\", \"p8\", \"p16\", \"m1\", \"m2\", \"m4\", \"m8\", \"m16\", \"m32\"]\n",
    "visualizeMode = \"PHI_MAPE\"\n",
    "cutoffRow = None"
   ]
  },
  {
   "cell_type": "code",
   "execution_count": 3,
   "metadata": {},
   "outputs": [],
   "source": [
    "dfArray = []\n",
    "for modelName in modelNames:\n",
    "    df, dfLong, dfWide, dfS7 = getModelDataNum(\n",
    "        modelName, mode, visualizeMode=visualizeMode, cutoffRow=cutoffRow\n",
    "    )\n",
    "    dfS7.sort_values(by=[\"mape\"], inplace=True, ascending=False)\n",
    "    dfArray.append(dfS7)"
   ]
  },
  {
   "cell_type": "code",
   "execution_count": 13,
   "metadata": {},
   "outputs": [],
   "source": [
    "params = {}\n",
    "for df, modelName in zip(dfArray, modelNames):\n",
    "    dBad1 = {\n",
    "        \"mode\": \"TEST\",\n",
    "        \"modelName\": modelName,\n",
    "        \"folderName\": df.iloc[0, :][\"sourceFolderName\"],\n",
    "    }\n",
    "    dBad2 = {\n",
    "        \"mode\": \"TEST\",\n",
    "        \"modelName\": modelName,\n",
    "        \"folderName\": df.iloc[1, :][\"sourceFolderName\"],\n",
    "    }\n",
    "    dGood = {\n",
    "        \"mode\": \"TEST\",\n",
    "        \"modelName\": modelName,\n",
    "        \"folderName\": df.iloc[-1, :][\"sourceFolderName\"],\n",
    "    }\n",
    "    param = {\n",
    "        f\"{modelName}_bad1\": dBad1,\n",
    "        f\"{modelName}_bad2\": dBad2,\n",
    "        f\"{modelName}_good\": dGood,\n",
    "    }\n",
    "    params.update(param)\n",
    "    # display(df.head(1))\n",
    "    # display(df.tail(1))"
   ]
  },
  {
   "cell_type": "code",
   "execution_count": 14,
   "metadata": {},
   "outputs": [
    {
     "data": {
      "text/plain": [
       "{'p2_bad1': {'mode': 'TEST',\n",
       "  'modelName': 'p2',\n",
       "  'sourceFolderName': '2024-01-05-13-38-20'},\n",
       " 'p2_bad2': {'mode': 'TEST',\n",
       "  'modelName': 'p2',\n",
       "  'sourceFolderName': '2024-01-05-13-37-55'},\n",
       " 'p2_good': {'mode': 'TEST',\n",
       "  'modelName': 'p2',\n",
       "  'sourceFolderName': '2024-01-05-13-38-01'},\n",
       " 'p4_bad1': {'mode': 'TEST',\n",
       "  'modelName': 'p4',\n",
       "  'sourceFolderName': '2024-01-05-13-38-48'},\n",
       " 'p4_bad2': {'mode': 'TEST',\n",
       "  'modelName': 'p4',\n",
       "  'sourceFolderName': '2024-01-05-13-39-29'},\n",
       " 'p4_good': {'mode': 'TEST',\n",
       "  'modelName': 'p4',\n",
       "  'sourceFolderName': '2024-01-05-13-38-57'},\n",
       " 'p8_bad1': {'mode': 'TEST',\n",
       "  'modelName': 'p8',\n",
       "  'sourceFolderName': '2024-01-05-13-40-16'},\n",
       " 'p8_bad2': {'mode': 'TEST',\n",
       "  'modelName': 'p8',\n",
       "  'sourceFolderName': '2024-01-05-13-39-51'},\n",
       " 'p8_good': {'mode': 'TEST',\n",
       "  'modelName': 'p8',\n",
       "  'sourceFolderName': '2024-01-05-13-39-53'},\n",
       " 'p16_bad1': {'mode': 'TEST',\n",
       "  'modelName': 'p16',\n",
       "  'sourceFolderName': '2024-01-05-13-31-06'},\n",
       " 'p16_bad2': {'mode': 'TEST',\n",
       "  'modelName': 'p16',\n",
       "  'sourceFolderName': '2024-01-05-13-31-17'},\n",
       " 'p16_good': {'mode': 'TEST',\n",
       "  'modelName': 'p16',\n",
       "  'sourceFolderName': '2024-01-05-13-29-37'},\n",
       " 'm1_bad1': {'mode': 'TEST',\n",
       "  'modelName': 'm1',\n",
       "  'sourceFolderName': '2024-01-06-05-07-52'},\n",
       " 'm1_bad2': {'mode': 'TEST',\n",
       "  'modelName': 'm1',\n",
       "  'sourceFolderName': '2024-01-06-05-08-14'},\n",
       " 'm1_good': {'mode': 'TEST',\n",
       "  'modelName': 'm1',\n",
       "  'sourceFolderName': '2024-01-05-13-33-02'},\n",
       " 'm2_bad1': {'mode': 'TEST',\n",
       "  'modelName': 'm2',\n",
       "  'sourceFolderName': '2024-01-06-05-09-00'},\n",
       " 'm2_bad2': {'mode': 'TEST',\n",
       "  'modelName': 'm2',\n",
       "  'sourceFolderName': '2024-01-06-05-08-32'},\n",
       " 'm2_good': {'mode': 'TEST',\n",
       "  'modelName': 'm2',\n",
       "  'sourceFolderName': '2024-01-06-05-09-05'},\n",
       " 'm4_bad1': {'mode': 'TEST',\n",
       "  'modelName': 'm4',\n",
       "  'sourceFolderName': '2024-01-06-05-09-45'},\n",
       " 'm4_bad2': {'mode': 'TEST',\n",
       "  'modelName': 'm4',\n",
       "  'sourceFolderName': '2024-01-06-05-09-50'},\n",
       " 'm4_good': {'mode': 'TEST',\n",
       "  'modelName': 'm4',\n",
       "  'sourceFolderName': '2024-01-06-05-09-29'},\n",
       " 'm8_bad1': {'mode': 'TEST',\n",
       "  'modelName': 'm8',\n",
       "  'sourceFolderName': '2024-01-06-05-10-57'},\n",
       " 'm8_bad2': {'mode': 'TEST',\n",
       "  'modelName': 'm8',\n",
       "  'sourceFolderName': '2024-01-06-05-11-05'},\n",
       " 'm8_good': {'mode': 'TEST',\n",
       "  'modelName': 'm8',\n",
       "  'sourceFolderName': '2024-01-06-05-10-38'},\n",
       " 'm16_bad1': {'mode': 'TEST',\n",
       "  'modelName': 'm16',\n",
       "  'sourceFolderName': '2024-01-05-13-34-04'},\n",
       " 'm16_bad2': {'mode': 'TEST',\n",
       "  'modelName': 'm16',\n",
       "  'sourceFolderName': '2024-01-05-13-34-35'},\n",
       " 'm16_good': {'mode': 'TEST',\n",
       "  'modelName': 'm16',\n",
       "  'sourceFolderName': '2024-01-05-13-34-06'},\n",
       " 'm32_bad1': {'mode': 'TEST',\n",
       "  'modelName': 'm32',\n",
       "  'sourceFolderName': '2024-01-05-13-35-16'},\n",
       " 'm32_bad2': {'mode': 'TEST',\n",
       "  'modelName': 'm32',\n",
       "  'sourceFolderName': '2024-01-05-13-35-30'},\n",
       " 'm32_good': {'mode': 'TEST',\n",
       "  'modelName': 'm32',\n",
       "  'sourceFolderName': '2024-01-05-13-35-02'}}"
      ]
     },
     "execution_count": 14,
     "metadata": {},
     "output_type": "execute_result"
    }
   ],
   "source": [
    "params"
   ]
  },
  {
   "cell_type": "code",
   "execution_count": null,
   "metadata": {},
   "outputs": [],
   "source": []
  }
 ],
 "metadata": {
  "kernelspec": {
   "display_name": "pfc",
   "language": "python",
   "name": "python3"
  },
  "language_info": {
   "codemirror_mode": {
    "name": "ipython",
    "version": 3
   },
   "file_extension": ".py",
   "mimetype": "text/x-python",
   "name": "python",
   "nbconvert_exporter": "python",
   "pygments_lexer": "ipython3",
   "version": "3.10.12"
  }
 },
 "nbformat": 4,
 "nbformat_minor": 2
}
