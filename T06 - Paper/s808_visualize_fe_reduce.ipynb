{
 "cells": [
  {
   "cell_type": "code",
   "execution_count": 23,
   "metadata": {},
   "outputs": [],
   "source": [
    "import os, sys\n",
    "import numpy as np\n",
    "import matplotlib.pyplot as plt\n",
    "import seaborn as sns\n",
    "import pandas as pd\n",
    "from utilsVisualize import getModelDataReduce\n",
    "import matplotlib.colors as mcolors"
   ]
  },
  {
   "cell_type": "code",
   "execution_count": 24,
   "metadata": {},
   "outputs": [],
   "source": [
    "mode = \"TEST\"\n",
    "modelNames = [\"p2\", \"p4\", \"p8\", \"p16\", \"m1\", \"m2\", \"m4\", \"m8\", \"m16\", \"m32\"]\n",
    "# modelNames = [\"m16\"]\n",
    "visualizeMode = \"FE_REDUCE\"\n",
    "cutoffRow = None\n",
    "showPlot = False\n",
    "filenamePrefix = 'FE_REDUCE-boxplot'\n",
    "ylabel = 'Fraction of Violations'\n",
    "\n",
    "my_pal = {\n",
    "    \"p2\": \"g\",\n",
    "    \"p4\": \"g\",\n",
    "    \"p8\": \"g\",\n",
    "    \"p16\": \"g\",\n",
    "    \"m1\": \"r\",\n",
    "    \"m2\": \"r\",\n",
    "    \"m4\": \"r\",\n",
    "    \"m8\": \"r\",\n",
    "    \"m16\": \"r\",\n",
    "    \"m32\": \"r\",\n",
    "}"
   ]
  },
  {
   "cell_type": "code",
   "execution_count": 25,
   "metadata": {},
   "outputs": [
    {
     "name": "stdout",
     "output_type": "stream",
     "text": [
      "p2 (801, 50)\n",
      "p4 (401, 50)\n",
      "p8 (201, 50)\n",
      "p16 (101, 44)\n",
      "m1 (1601, 50)\n",
      "m2 (801, 50)\n",
      "m4 (401, 50)\n",
      "m8 (201, 50)\n",
      "m16 (101, 50)\n",
      "m32 (51, 50)\n"
     ]
    }
   ],
   "source": [
    "dfLongArray = []\n",
    "for modelName in modelNames:\n",
    "    df, dfLong, dfWide = getModelDataReduce(\n",
    "        modelName, mode, visualizeMode=visualizeMode, cutoffRow=cutoffRow\n",
    "    )\n",
    "    print(modelName, df.shape)\n",
    "    dfLongArray.append(dfLong)\n",
    "    if showPlot:\n",
    "        sns.set_theme()\n",
    "        fig, ax = plt.subplots()\n",
    "        xp = dfWide.index.values\n",
    "        yp = dfWide[\"frac\"].values\n",
    "\n",
    "        ax.plot(xp, yp, \"--*\", label=modelName)\n",
    "        ax.set_title(visualizeMode)\n",
    "        ax.set_xlabel(\"Time\")\n",
    "        ax.set_ylabel(visualizeMode)\n",
    "        plt.legend()\n",
    "        plt.show()\n",
    "\n",
    "dfLongAppended = pd.concat(dfLongArray)"
   ]
  },
  {
   "cell_type": "code",
   "execution_count": 26,
   "metadata": {},
   "outputs": [
    {
     "data": {
      "text/html": [
       "<div>\n",
       "<style scoped>\n",
       "    .dataframe tbody tr th:only-of-type {\n",
       "        vertical-align: middle;\n",
       "    }\n",
       "\n",
       "    .dataframe tbody tr th {\n",
       "        vertical-align: top;\n",
       "    }\n",
       "\n",
       "    .dataframe thead th {\n",
       "        text-align: right;\n",
       "    }\n",
       "</style>\n",
       "<table border=\"1\" class=\"dataframe\">\n",
       "  <thead>\n",
       "    <tr style=\"text-align: right;\">\n",
       "      <th></th>\n",
       "      <th>sum</th>\n",
       "      <th>tot</th>\n",
       "      <th>frac</th>\n",
       "    </tr>\n",
       "  </thead>\n",
       "  <tbody>\n",
       "    <tr>\n",
       "      <th>0.0</th>\n",
       "      <td>0</td>\n",
       "      <td>50</td>\n",
       "      <td>0.00</td>\n",
       "    </tr>\n",
       "    <tr>\n",
       "      <th>8.0</th>\n",
       "      <td>0</td>\n",
       "      <td>50</td>\n",
       "      <td>0.00</td>\n",
       "    </tr>\n",
       "    <tr>\n",
       "      <th>16.0</th>\n",
       "      <td>4</td>\n",
       "      <td>50</td>\n",
       "      <td>0.08</td>\n",
       "    </tr>\n",
       "    <tr>\n",
       "      <th>24.0</th>\n",
       "      <td>1</td>\n",
       "      <td>50</td>\n",
       "      <td>0.02</td>\n",
       "    </tr>\n",
       "    <tr>\n",
       "      <th>32.0</th>\n",
       "      <td>0</td>\n",
       "      <td>50</td>\n",
       "      <td>0.00</td>\n",
       "    </tr>\n",
       "  </tbody>\n",
       "</table>\n",
       "</div>"
      ],
      "text/plain": [
       "      sum  tot  frac\n",
       "0.0     0   50  0.00\n",
       "8.0     0   50  0.00\n",
       "16.0    4   50  0.08\n",
       "24.0    1   50  0.02\n",
       "32.0    0   50  0.00"
      ]
     },
     "metadata": {},
     "output_type": "display_data"
    },
    {
     "data": {
      "text/html": [
       "<div>\n",
       "<style scoped>\n",
       "    .dataframe tbody tr th:only-of-type {\n",
       "        vertical-align: middle;\n",
       "    }\n",
       "\n",
       "    .dataframe tbody tr th {\n",
       "        vertical-align: top;\n",
       "    }\n",
       "\n",
       "    .dataframe thead th {\n",
       "        text-align: right;\n",
       "    }\n",
       "</style>\n",
       "<table border=\"1\" class=\"dataframe\">\n",
       "  <thead>\n",
       "    <tr style=\"text-align: right;\">\n",
       "      <th></th>\n",
       "      <th>time</th>\n",
       "      <th>type</th>\n",
       "      <th>value</th>\n",
       "      <th>model</th>\n",
       "    </tr>\n",
       "  </thead>\n",
       "  <tbody>\n",
       "    <tr>\n",
       "      <th>0</th>\n",
       "      <td>0.0</td>\n",
       "      <td>frac</td>\n",
       "      <td>0.00</td>\n",
       "      <td>m32</td>\n",
       "    </tr>\n",
       "    <tr>\n",
       "      <th>1</th>\n",
       "      <td>8.0</td>\n",
       "      <td>frac</td>\n",
       "      <td>0.00</td>\n",
       "      <td>m32</td>\n",
       "    </tr>\n",
       "    <tr>\n",
       "      <th>2</th>\n",
       "      <td>16.0</td>\n",
       "      <td>frac</td>\n",
       "      <td>0.08</td>\n",
       "      <td>m32</td>\n",
       "    </tr>\n",
       "    <tr>\n",
       "      <th>3</th>\n",
       "      <td>24.0</td>\n",
       "      <td>frac</td>\n",
       "      <td>0.02</td>\n",
       "      <td>m32</td>\n",
       "    </tr>\n",
       "    <tr>\n",
       "      <th>4</th>\n",
       "      <td>32.0</td>\n",
       "      <td>frac</td>\n",
       "      <td>0.00</td>\n",
       "      <td>m32</td>\n",
       "    </tr>\n",
       "  </tbody>\n",
       "</table>\n",
       "</div>"
      ],
      "text/plain": [
       "   time  type  value model\n",
       "0   0.0  frac   0.00   m32\n",
       "1   8.0  frac   0.00   m32\n",
       "2  16.0  frac   0.08   m32\n",
       "3  24.0  frac   0.02   m32\n",
       "4  32.0  frac   0.00   m32"
      ]
     },
     "metadata": {},
     "output_type": "display_data"
    }
   ],
   "source": [
    "display(dfWide.head())\n",
    "display(dfLong.head())"
   ]
  },
  {
   "cell_type": "code",
   "execution_count": 33,
   "metadata": {},
   "outputs": [
    {
     "data": {
      "image/png": "[encoded data removed]",
      "text/plain": [
       "<Figure size 800x500 with 1 Axes>"
      ]
     },
     "metadata": {},
     "output_type": "display_data"
    }
   ],
   "source": [
    "sns.set_theme()\n",
    "fig, ax = plt.subplots(figsize=(8, 5))\n",
    "\n",
    "# sns.violinplot(data=dfLongAppended, x=\"model\", y=\"value\", ax=ax, density_norm='width')\n",
    "sns.boxplot(data=dfLongAppended, x=\"model\", y=\"value\", hue='model', legend=False, ax=ax, palette=my_pal)\n",
    "ax.set_xlabel(\"Model\")\n",
    "ax.set_ylabel(ylabel)\n",
    "# ax.set_ylim([0, 1.1])\n",
    "cwd = sys.path[0]\n",
    "cutoffRow = 'None' if cutoffRow is None else cutoffRow\n",
    "filename = f'{filenamePrefix}-Cut-{cutoffRow}.png'\n",
    "filePath = os.path.join(os.getcwd(), 'o8_visualize', filename)\n",
    "plt.savefig(filePath, dpi=300, bbox_inches=\"tight\")"
   ]
  }
 ],
 "metadata": {
  "kernelspec": {
   "display_name": "pfc",
   "language": "python",
   "name": "python3"
  },
  "language_info": {
   "codemirror_mode": {
    "name": "ipython",
    "version": 3
   },
   "file_extension": ".py",
   "mimetype": "text/x-python",
   "name": "python",
   "nbconvert_exporter": "python",
   "pygments_lexer": "ipython3",
   "version": "3.10.12"
  }
 },
 "nbformat": 4,
 "nbformat_minor": 2
}
