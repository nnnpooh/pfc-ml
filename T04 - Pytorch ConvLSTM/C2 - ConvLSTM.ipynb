{
 "cells": [
  {
   "cell_type": "code",
   "execution_count": 260,
   "metadata": {},
   "outputs": [],
   "source": [
    "import torch\n",
    "import torch.nn as nn\n",
    "import numpy as np\n",
    "import pickle, os\n",
    "from torch.utils.data import DataLoader\n",
    "from torch.optim import Adam\n",
    "import matplotlib.pyplot as plt\n"
   ]
  },
  {
   "cell_type": "code",
   "execution_count": 261,
   "metadata": {},
   "outputs": [],
   "source": [
    "device = torch.device(\"cuda\" if torch.cuda.is_available() else \"cpu\")\n",
    "\n",
    "# Original ConvLSTM cell as proposed by Shi et al.\n",
    "class ConvLSTMCell(nn.Module):\n",
    "    def __init__(\n",
    "        self, in_channels, out_channels, kernel_size, padding, activation, frame_size\n",
    "    ):\n",
    "\n",
    "        super(ConvLSTMCell, self).__init__()\n",
    "\n",
    "        if activation == \"tanh\":\n",
    "            self.activation = torch.tanh\n",
    "        elif activation == \"relu\":\n",
    "            self.activation = torch.relu\n",
    "\n",
    "        # Idea adapted from https://github.com/ndrplz/ConvLSTM_pytorch\n",
    "        self.conv = nn.Conv2d(\n",
    "            in_channels=in_channels + out_channels,\n",
    "            out_channels=4 * out_channels,\n",
    "            kernel_size=kernel_size,\n",
    "            padding=padding,\n",
    "        )\n",
    "\n",
    "        # Initialize weights for Hadamard Products\n",
    "        self.W_ci = nn.Parameter(torch.rand(out_channels, *frame_size))\n",
    "        self.W_co = nn.Parameter(torch.rand(out_channels, *frame_size))\n",
    "        self.W_cf = nn.Parameter(torch.rand(out_channels, *frame_size))\n",
    "\n",
    "    def forward(self, X, H_prev, C_prev):\n",
    "\n",
    "        # Idea adapted from https://github.com/ndrplz/ConvLSTM_pytorch\n",
    "        conv_output = self.conv(torch.cat([X, H_prev], dim=1))\n",
    "\n",
    "        # Idea adapted from https://github.com/ndrplz/ConvLSTM_pytorch\n",
    "        i_conv, f_conv, C_conv, o_conv = torch.chunk(conv_output, chunks=4, dim=1)\n",
    "\n",
    "        input_gate = torch.sigmoid(i_conv + self.W_ci * C_prev)\n",
    "        forget_gate = torch.sigmoid(f_conv + self.W_cf * C_prev)\n",
    "\n",
    "        # Current Cell output\n",
    "        C = forget_gate * C_prev + input_gate * self.activation(C_conv)\n",
    "\n",
    "        output_gate = torch.sigmoid(o_conv + self.W_co * C)\n",
    "\n",
    "        # Current Hidden State\n",
    "        H = output_gate * self.activation(C)\n",
    "\n",
    "        return H, C\n"
   ]
  },
  {
   "cell_type": "code",
   "execution_count": 262,
   "metadata": {},
   "outputs": [],
   "source": [
    "class ConvLSTM(nn.Module):\n",
    "    def __init__(\n",
    "        self, in_channels, out_channels, kernel_size, padding, activation, frame_size\n",
    "    ):\n",
    "\n",
    "        super(ConvLSTM, self).__init__()\n",
    "\n",
    "        self.out_channels = out_channels\n",
    "\n",
    "        # We will unroll this over time steps\n",
    "        self.convLSTMcell = ConvLSTMCell(\n",
    "            in_channels, out_channels, kernel_size, padding, activation, frame_size\n",
    "        )\n",
    "\n",
    "    def forward(self, X):\n",
    "\n",
    "        # X is a frame sequence (batch_size, num_channels, seq_len, height, width)\n",
    "\n",
    "        # Get the dimensions\n",
    "        batch_size, _, seq_len, height, width = X.size()\n",
    "\n",
    "        # Initialize output\n",
    "        output = torch.zeros(\n",
    "            batch_size, self.out_channels, seq_len, height, width, device=device\n",
    "        )\n",
    "\n",
    "        # Initialize Hidden State\n",
    "        H = torch.zeros(batch_size, self.out_channels, height, width, device=device)\n",
    "\n",
    "        # Initialize Cell Input\n",
    "        C = torch.zeros(batch_size, self.out_channels, height, width, device=device)\n",
    "\n",
    "        # Unroll over time steps\n",
    "        for time_step in range(seq_len):\n",
    "\n",
    "            H, C = self.convLSTMcell(X[:, :, time_step], H, C)\n",
    "\n",
    "            output[:, :, time_step] = H\n",
    "\n",
    "        return output\n"
   ]
  },
  {
   "cell_type": "code",
   "execution_count": 263,
   "metadata": {},
   "outputs": [],
   "source": [
    "class Seq2Seq(nn.Module):\n",
    "    def __init__(\n",
    "        self,\n",
    "        num_channels,\n",
    "        num_kernels,\n",
    "        kernel_size,\n",
    "        padding,\n",
    "        activation,\n",
    "        frame_size,\n",
    "        num_layers,\n",
    "    ):\n",
    "\n",
    "        super(Seq2Seq, self).__init__()\n",
    "\n",
    "        self.sequential = nn.Sequential()\n",
    "\n",
    "        # Add First layer (Different in_channels than the rest)\n",
    "        self.sequential.add_module(\n",
    "            \"convlstm1\",\n",
    "            ConvLSTM(\n",
    "                in_channels=num_channels,\n",
    "                out_channels=num_kernels,\n",
    "                kernel_size=kernel_size,\n",
    "                padding=padding,\n",
    "                activation=activation,\n",
    "                frame_size=frame_size,\n",
    "            ),\n",
    "        )\n",
    "\n",
    "        self.sequential.add_module(\n",
    "            \"batchnorm1\", nn.BatchNorm3d(num_features=num_kernels)\n",
    "        )\n",
    "\n",
    "        # Add rest of the layers\n",
    "        for l in range(2, num_layers + 1):\n",
    "\n",
    "            self.sequential.add_module(\n",
    "                f\"convlstm{l}\",\n",
    "                ConvLSTM(\n",
    "                    in_channels=num_kernels,\n",
    "                    out_channels=num_kernels,\n",
    "                    kernel_size=kernel_size,\n",
    "                    padding=padding,\n",
    "                    activation=activation,\n",
    "                    frame_size=frame_size,\n",
    "                ),\n",
    "            )\n",
    "\n",
    "            self.sequential.add_module(\n",
    "                f\"batchnorm{l}\", nn.BatchNorm3d(num_features=num_kernels)\n",
    "            )\n",
    "\n",
    "        # Add Convolutional Layer to predict output frame\n",
    "        self.conv = nn.Conv2d(\n",
    "            in_channels=num_kernels,\n",
    "            out_channels=num_channels,\n",
    "            kernel_size=kernel_size,\n",
    "            padding=padding,\n",
    "        )\n",
    "\n",
    "    def forward(self, X):\n",
    "\n",
    "        # Forward propagation through all the layers\n",
    "        output = self.sequential(X)\n",
    "\n",
    "        # Return only the last output frame\n",
    "        output = self.conv(output[:, :, -1])\n",
    "\n",
    "        return nn.Sigmoid()(output)\n"
   ]
  },
  {
   "cell_type": "markdown",
   "metadata": {},
   "source": [
    "### Test `ConvLSTMCell` and `ConvLSTM` classes\n"
   ]
  },
  {
   "cell_type": "code",
   "execution_count": 264,
   "metadata": {},
   "outputs": [],
   "source": [
    "in_channels = 1\n",
    "out_channels = 10\n",
    "kernel_size = 3\n",
    "padding = \"same\"\n",
    "activation = \"relu\"\n",
    "frame_size = (5, 5)\n",
    "batch_size = 4\n",
    "seq_length = 10\n"
   ]
  },
  {
   "cell_type": "code",
   "execution_count": 265,
   "metadata": {},
   "outputs": [],
   "source": [
    "lstm1 = ConvLSTMCell(\n",
    "    in_channels, out_channels, kernel_size, padding, activation, frame_size\n",
    ")\n",
    "torch.manual_seed(1)\n",
    "X = torch.rand(batch_size, in_channels, seq_length, *frame_size)\n",
    "H = torch.zeros(batch_size, out_channels, *frame_size)\n",
    "C = torch.zeros(batch_size, out_channels, *frame_size)\n",
    "O1 = torch.zeros(batch_size, out_channels, seq_length, *frame_size)\n",
    "for timestep in range(seq_length):\n",
    "    H, C = lstm1(X[:, :, timestep], H, C)\n",
    "    O1[:, :, timestep] = H\n"
   ]
  },
  {
   "cell_type": "code",
   "execution_count": 266,
   "metadata": {},
   "outputs": [],
   "source": [
    "lstm2 = ConvLSTM(\n",
    "    in_channels, out_channels, kernel_size, padding, activation, frame_size\n",
    ")\n",
    "torch.manual_seed(1)\n",
    "X = torch.rand(batch_size, in_channels, seq_length, *frame_size)\n",
    "O2 = lstm2(X)\n"
   ]
  },
  {
   "cell_type": "code",
   "execution_count": 267,
   "metadata": {},
   "outputs": [
    {
     "name": "stdout",
     "output_type": "stream",
     "text": [
      "tensor([0., 0., 0., 0., 0.], grad_fn=<SelectBackward0>)\n",
      "tensor([0., 0., 0., 0., 0.], grad_fn=<SelectBackward0>)\n"
     ]
    }
   ],
   "source": [
    "# This should give the same answer.\n",
    "print(O1[0, 0, -1, 0])\n",
    "print(O2[0, 0, -1, 0])\n",
    "\n"
   ]
  },
  {
   "cell_type": "markdown",
   "metadata": {},
   "source": [
    "### Test `Seq2Seq` class\n"
   ]
  },
  {
   "cell_type": "code",
   "execution_count": 268,
   "metadata": {},
   "outputs": [
    {
     "name": "stdout",
     "output_type": "stream",
     "text": [
      "torch.Size([4, 1, 10, 5, 5])\n",
      "torch.Size([4, 1, 5, 5])\n"
     ]
    }
   ],
   "source": [
    "num_channels = in_channels\n",
    "num_kernels = out_channels\n",
    "num_layers = 3\n",
    "\n",
    "lstm3 = Seq2Seq(\n",
    "    num_channels, num_kernels, kernel_size, padding, activation, frame_size, num_layers\n",
    ")\n",
    "\n",
    "X = torch.rand(batch_size, num_channels, seq_length, *frame_size)\n",
    "O3 = lstm3(X)\n",
    "\n",
    "print(X.size())\n",
    "print(O3.size())\n"
   ]
  },
  {
   "cell_type": "markdown",
   "metadata": {},
   "source": [
    "### PFC data"
   ]
  },
  {
   "cell_type": "code",
   "execution_count": 269,
   "metadata": {},
   "outputs": [],
   "source": [
    "in_channels = 1\n",
    "out_channels = 10\n",
    "kernel_size = (1, 3)\n",
    "padding = \"same\"\n",
    "activation = \"relu\"\n",
    "frame_size = (1, 32)\n",
    "batch_size = 10\n",
    "seq_length = 10\n",
    "num_channels = in_channels\n",
    "num_kernels = out_channels\n",
    "num_layers = 2\n"
   ]
  },
  {
   "cell_type": "code",
   "execution_count": 270,
   "metadata": {},
   "outputs": [
    {
     "name": "stdout",
     "output_type": "stream",
     "text": [
      "/home/nnnpooh/Coding/research/pfc-ml/T02 - PFC - ConvLSTM/output/2022-05-08-07-21-22/data_store.pickle\n"
     ]
    }
   ],
   "source": [
    "# Data folder\n",
    "cwd = os.getcwd()\n",
    "folderPFC = \"T02 - PFC - ConvLSTM\"\n",
    "folderOutput = \"2022-05-08-07-21-22\"\n",
    "rootFolder = os.path.dirname(cwd)  # Up one level\n",
    "filePath = os.path.join(\n",
    "    rootFolder, folderPFC, \"output\", folderOutput, \"data_store.pickle\"\n",
    ")\n",
    "print(filePath)\n"
   ]
  },
  {
   "cell_type": "code",
   "execution_count": 271,
   "metadata": {},
   "outputs": [],
   "source": [
    "# Load data (deserialize)\n",
    "with open(filePath, \"rb\") as handle:\n",
    "    data_dict = pickle.load(handle)\n",
    "\n",
    "data = data_dict[\"data\"]\n",
    "# nCol = data_dict[\"n\"]\n",
    "# nRow = 1\n",
    "# nChannel = 1\n",
    "# tFinal = data_dict[\"tf\"]\n",
    "# dx = data_dict[\"dx\"]\n",
    "# L = data_dict[\"L\"]\n"
   ]
  },
  {
   "cell_type": "code",
   "execution_count": 272,
   "metadata": {},
   "outputs": [],
   "source": [
    "class MyDataset(torch.utils.data.Dataset):\n",
    "    def __init__(self, data, seq_length, num_channels, frame_size):\n",
    "        X_, y_ = self.split_sequence(data, seq_length)\n",
    "        X_ = X_.reshape(X_.shape[0], num_channels, seq_length, *frame_size)\n",
    "        self.X = torch.from_numpy(\n",
    "            X_\n",
    "        ).float()  # numpy array data is double but the parameters in the nn layers are float.\n",
    "        self.y = torch.from_numpy(y_).float()\n",
    "\n",
    "    def __len__(self):\n",
    "        \"Denotes the total number of samples\"\n",
    "        return self.X.shape[0]\n",
    "\n",
    "    # Probabably a better way here: https://diegslva.github.io/2017-05-02-first-post/\n",
    "    def split_sequence(self, data, nSeq):\n",
    "        X, y = list(), list()\n",
    "        nRow = data.shape[0]\n",
    "        for i in range(nRow):\n",
    "            # find the end of this pattern\n",
    "            end_ix = i + nSeq\n",
    "            # check if we are beyond the sequence\n",
    "            if end_ix > nRow - 1:\n",
    "                break\n",
    "                # gather input and output parts of the pattern\n",
    "            seq_x, seq_y = data[i:end_ix, :], data[end_ix, :]\n",
    "            X.append(seq_x)\n",
    "            y.append(seq_y)\n",
    "        return np.array(X), np.array(y)\n",
    "\n",
    "    def __getitem__(self, index):\n",
    "        \"Generates one sample of data\"\n",
    "        # Select sample\n",
    "        X = self.X[index]\n",
    "        y = self.y[index]\n",
    "        return X, y\n"
   ]
  },
  {
   "cell_type": "code",
   "execution_count": 273,
   "metadata": {},
   "outputs": [],
   "source": [
    "ds = MyDataset(data, seq_length, num_channels, frame_size)\n",
    "train_loader = DataLoader(ds, shuffle=True, batch_size=batch_size)\n",
    "# train_ = next(iter(train_loader))\n",
    "# print(train_[0].shape)\n",
    "# print(train_[1].shape)\n",
    "# phi_ = train_[0][0, 0, 0, 0, :].cpu().detach().numpy()\n",
    "# plt.plot(phi_)"
   ]
  },
  {
   "cell_type": "code",
   "execution_count": 274,
   "metadata": {},
   "outputs": [
    {
     "name": "stdout",
     "output_type": "stream",
     "text": [
      "torch.Size([10, 1, 10, 1, 32])\n",
      "torch.Size([10, 32])\n"
     ]
    },
    {
     "data": {
      "image/png": "[encoded data removed]",
      "text/plain": [
       "<Figure size 432x288 with 1 Axes>"
      ]
     },
     "metadata": {
      "needs_background": "light"
     },
     "output_type": "display_data"
    }
   ],
   "source": [
    "train_ = next(iter(train_loader))\n",
    "print(train_[0].shape)\n",
    "print(train_[1].shape)\n",
    "phi_ = train_[0][-1, 0, 0, 0, :].cpu().detach().numpy()\n",
    "plt.plot(phi_)\n",
    "plt.show()"
   ]
  },
  {
   "cell_type": "code",
   "execution_count": 275,
   "metadata": {},
   "outputs": [],
   "source": [
    "model = Seq2Seq(\n",
    "    num_channels, num_kernels, kernel_size, padding, activation, frame_size, num_layers\n",
    ")\n",
    "\n",
    "optim = Adam(model.parameters(), lr=1e-2)\n",
    "criterion = nn.MSELoss(reduction=\"sum\")\n",
    "\n"
   ]
  },
  {
   "cell_type": "code",
   "execution_count": 276,
   "metadata": {},
   "outputs": [
    {
     "name": "stdout",
     "output_type": "stream",
     "text": [
      "Epoch:1 Training Loss:1.55 Validation Loss:1.81\n",
      "\n",
      "Epoch:2 Training Loss:0.10 Validation Loss:1.19\n",
      "\n",
      "Epoch:3 Training Loss:0.06 Validation Loss:0.70\n",
      "\n",
      "Epoch:4 Training Loss:0.05 Validation Loss:0.25\n",
      "\n",
      "Epoch:5 Training Loss:0.05 Validation Loss:0.11\n",
      "\n",
      "Epoch:6 Training Loss:0.05 Validation Loss:0.06\n",
      "\n",
      "Epoch:7 Training Loss:0.04 Validation Loss:0.05\n",
      "\n",
      "Epoch:8 Training Loss:0.04 Validation Loss:0.05\n",
      "\n",
      "Epoch:9 Training Loss:0.04 Validation Loss:0.04\n",
      "\n",
      "Epoch:10 Training Loss:0.04 Validation Loss:0.04\n",
      "\n",
      "Epoch:11 Training Loss:0.04 Validation Loss:0.04\n",
      "\n",
      "Epoch:12 Training Loss:0.04 Validation Loss:0.04\n",
      "\n",
      "Epoch:13 Training Loss:0.04 Validation Loss:0.04\n",
      "\n",
      "Epoch:14 Training Loss:0.04 Validation Loss:0.04\n",
      "\n",
      "Epoch:15 Training Loss:0.04 Validation Loss:0.04\n",
      "\n",
      "Epoch:16 Training Loss:0.04 Validation Loss:0.04\n",
      "\n",
      "Epoch:17 Training Loss:0.04 Validation Loss:0.06\n",
      "\n",
      "Epoch:18 Training Loss:0.04 Validation Loss:0.04\n",
      "\n",
      "Epoch:19 Training Loss:0.04 Validation Loss:0.04\n",
      "\n",
      "Epoch:20 Training Loss:0.04 Validation Loss:0.04\n",
      "\n"
     ]
    }
   ],
   "source": [
    "num_epochs = 20\n",
    "\n",
    "for epoch in range(1, num_epochs + 1):\n",
    "\n",
    "    train_loss = 0\n",
    "    model.train() #https://stackoverflow.com/a/51433411\n",
    "    for batch_num, (input, target) in enumerate(train_loader, 1):\n",
    "        output = model(input)\n",
    "        loss = criterion(output.flatten(), target.flatten())\n",
    "        loss.backward()\n",
    "        optim.step()\n",
    "        optim.zero_grad()\n",
    "        train_loss += loss.item()\n",
    "    train_loss /= len(train_loader.dataset)\n",
    "\n",
    "    val_loss = 0\n",
    "    model.eval()\n",
    "    with torch.no_grad():\n",
    "        for input, target in train_loader:\n",
    "            output = model(input)\n",
    "            loss = criterion(output.flatten(), target.flatten())\n",
    "            val_loss += loss.item()\n",
    "    val_loss /= len(train_loader.dataset)\n",
    "\n",
    "    print(\n",
    "        \"Epoch:{} Training Loss:{:.2f} Validation Loss:{:.2f}\\n\".format(\n",
    "            epoch, train_loss, val_loss\n",
    "        )\n",
    "    )"
   ]
  },
  {
   "cell_type": "code",
   "execution_count": 289,
   "metadata": {},
   "outputs": [
    {
     "name": "stdout",
     "output_type": "stream",
     "text": [
      "torch.Size([10, 1, 10, 1, 32])\n",
      "torch.Size([10, 1, 1, 32])\n",
      "torch.Size([10, 32])\n"
     ]
    }
   ],
   "source": [
    "train_ = next(iter(train_loader))\n",
    "pred = model(train_[0])\n",
    "print(train_[0].size())\n",
    "print(pred.size())"
   ]
  },
  {
   "cell_type": "code",
   "execution_count": 295,
   "metadata": {},
   "outputs": [
    {
     "data": {
      "text/plain": [
       "[<matplotlib.lines.Line2D at 0x7f2251918100>]"
      ]
     },
     "execution_count": 295,
     "metadata": {},
     "output_type": "execute_result"
    },
    {
     "data": {
      "image/png": "[encoded data removed]",
      "text/plain": [
       "<Figure size 432x288 with 1 Axes>"
      ]
     },
     "metadata": {
      "needs_background": "light"
     },
     "output_type": "display_data"
    }
   ],
   "source": [
    "phiPred = pred[-1,0,0,:].cpu().detach().numpy()\n",
    "phi = train_[1][-1,:].cpu().detach().numpy()\n",
    "plt.plot(phi, '--*')\n",
    "plt.plot(phiPred)"
   ]
  },
  {
   "cell_type": "markdown",
   "metadata": {},
   "source": [
    "#### For debugging"
   ]
  },
  {
   "cell_type": "code",
   "execution_count": 277,
   "metadata": {},
   "outputs": [],
   "source": [
    "# model = Seq2Seq(\n",
    "#     num_channels, num_kernels, kernel_size, padding, activation, frame_size, 10\n",
    "# )\n",
    "\n",
    "# optim = Adam(model.parameters(), lr=1e-4)\n",
    "# criterion = nn.MSELoss(reduction=\"sum\")\n",
    "\n",
    "# input, target = next(iter((train_loader)))\n",
    "# output = model(input)\n",
    "# loss = criterion(output.flatten(), target.flatten())\n",
    "# loss.backward()\n",
    "# optim.step()\n",
    "# optim.zero_grad()\n",
    "# print(output)"
   ]
  }
 ],
 "metadata": {
  "interpreter": {
   "hash": "d201a29f7c4182ebe0d045b868be9ef5a41c2ba4cccd19f1728f184a837bb8e6"
  },
  "kernelspec": {
   "display_name": "Python 3.9.12 ('pytorch')",
   "language": "python",
   "name": "python3"
  },
  "language_info": {
   "codemirror_mode": {
    "name": "ipython",
    "version": 3
   },
   "file_extension": ".py",
   "mimetype": "text/x-python",
   "name": "python",
   "nbconvert_exporter": "python",
   "pygments_lexer": "ipython3",
   "version": "3.9.12"
  },
  "orig_nbformat": 4
 },
 "nbformat": 4,
 "nbformat_minor": 2
}
