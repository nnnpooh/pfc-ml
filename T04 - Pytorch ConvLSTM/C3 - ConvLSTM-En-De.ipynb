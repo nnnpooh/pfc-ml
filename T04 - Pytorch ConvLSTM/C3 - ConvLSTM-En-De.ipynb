{
 "cells": [
  {
   "cell_type": "code",
   "execution_count": 42,
   "metadata": {},
   "outputs": [],
   "source": [
    "from collections import OrderedDict\n",
    "import torch\n",
    "import torch.nn as nn\n",
    "import logging\n"
   ]
  },
  {
   "cell_type": "code",
   "execution_count": 43,
   "metadata": {},
   "outputs": [],
   "source": [
    "class CLSTM_cell(nn.Module):\n",
    "    def __init__(self, shape, input_channels, filter_size, num_features):\n",
    "        super(CLSTM_cell, self).__init__()\n",
    "\n",
    "        self.shape = shape  # H, W\n",
    "        self.input_channels = input_channels\n",
    "        self.filter_size = filter_size\n",
    "        self.num_features = num_features\n",
    "        # in this way the output has the same size\n",
    "        self.padding = (filter_size - 1) // 2\n",
    "        self.conv = nn.Sequential(\n",
    "            nn.Conv2d(\n",
    "                self.input_channels + self.num_features,\n",
    "                4 * self.num_features,\n",
    "                self.filter_size,\n",
    "                1,\n",
    "                self.padding,\n",
    "            ),\n",
    "            nn.GroupNorm(4 * self.num_features // 32, 4 * self.num_features),\n",
    "        )\n",
    "\n",
    "    def forward(self, inputs=None, hidden_state=None, seq_len=10):\n",
    "        #  seq_len=10 for moving_mnist\n",
    "        if hidden_state is None:\n",
    "            hx = torch.zeros(\n",
    "                inputs.size(1), self.num_features, self.shape[0], self.shape[1]\n",
    "            )\n",
    "            cx = torch.zeros(\n",
    "                inputs.size(1), self.num_features, self.shape[0], self.shape[1]\n",
    "            )\n",
    "        else:\n",
    "            hx, cx = hidden_state\n",
    "        output_inner = []\n",
    "        for index in range(seq_len):\n",
    "            if inputs is None:\n",
    "                x = torch.zeros(\n",
    "                    hx.size(0), self.input_channels, self.shape[0], self.shape[1]\n",
    "                )\n",
    "            else:\n",
    "                x = inputs[index, ...]\n",
    "\n",
    "            combined = torch.cat((x, hx), 1)\n",
    "            gates = self.conv(combined)  # gates: S, num_features*4, H, W\n",
    "            # it should return 4 tensors: i,f,g,o\n",
    "            ingate, forgetgate, cellgate, outgate = torch.split(\n",
    "                gates, self.num_features, dim=1\n",
    "            )\n",
    "            ingate = torch.sigmoid(ingate)\n",
    "            forgetgate = torch.sigmoid(forgetgate)\n",
    "            cellgate = torch.tanh(cellgate)\n",
    "            outgate = torch.sigmoid(outgate)\n",
    "\n",
    "            cy = (forgetgate * cx) + (ingate * cellgate)\n",
    "            hy = outgate * torch.tanh(cy)\n",
    "            output_inner.append(hy)\n",
    "            hx = hy\n",
    "            cx = cy\n",
    "        return torch.stack(output_inner), (hy, cy)\n"
   ]
  },
  {
   "cell_type": "code",
   "execution_count": 44,
   "metadata": {},
   "outputs": [],
   "source": [
    "def make_layers(block):\n",
    "    layers = []\n",
    "    for layer_name, v in block.items():\n",
    "        if \"pool\" in layer_name:\n",
    "            layer = nn.MaxPool2d(kernel_size=v[0], stride=v[1], padding=v[2])\n",
    "            layers.append((layer_name, layer))\n",
    "        elif \"deconv\" in layer_name:\n",
    "            transposeConv2d = nn.ConvTranspose2d(\n",
    "                in_channels=v[0],\n",
    "                out_channels=v[1],\n",
    "                kernel_size=v[2],\n",
    "                stride=v[3],\n",
    "                padding=v[4],\n",
    "            )\n",
    "            layers.append((layer_name, transposeConv2d))\n",
    "            if \"relu\" in layer_name:\n",
    "                layers.append((\"relu_\" + layer_name, nn.ReLU(inplace=True)))\n",
    "            elif \"leaky\" in layer_name:\n",
    "                layers.append(\n",
    "                    (\n",
    "                        \"leaky_\" + layer_name,\n",
    "                        nn.LeakyReLU(negative_slope=0.2, inplace=True),\n",
    "                    )\n",
    "                )\n",
    "        elif \"conv\" in layer_name:\n",
    "            conv2d = nn.Conv2d(\n",
    "                in_channels=v[0],\n",
    "                out_channels=v[1],\n",
    "                kernel_size=v[2],\n",
    "                stride=v[3],\n",
    "                padding=v[4],\n",
    "            )\n",
    "            layers.append((layer_name, conv2d))\n",
    "            if \"relu\" in layer_name:\n",
    "                layers.append((\"relu_\" + layer_name, nn.ReLU(inplace=True)))\n",
    "            elif \"leaky\" in layer_name:\n",
    "                layers.append(\n",
    "                    (\n",
    "                        \"leaky_\" + layer_name,\n",
    "                        nn.LeakyReLU(negative_slope=0.2, inplace=True),\n",
    "                    )\n",
    "                )\n",
    "        else:\n",
    "            raise NotImplementedError\n",
    "    return nn.Sequential(OrderedDict(layers))\n"
   ]
  },
  {
   "cell_type": "code",
   "execution_count": 45,
   "metadata": {},
   "outputs": [],
   "source": [
    "class Encoder(nn.Module):\n",
    "    def __init__(self, subnets, rnns):\n",
    "        super().__init__()\n",
    "        assert len(subnets) == len(rnns)\n",
    "        self.blocks = len(subnets)\n",
    "\n",
    "        for index, (params, rnn) in enumerate(zip(subnets, rnns), 1):\n",
    "            # index sign from 1\n",
    "            setattr(self, \"stage\" + str(index), make_layers(params))\n",
    "            setattr(self, \"rnn\" + str(index), rnn)\n",
    "\n",
    "    def forward_by_stage(self, inputs, subnet, rnn):\n",
    "        seq_number, batch_size, input_channel, height, width = inputs.size()\n",
    "        inputs = torch.reshape(inputs, (-1, input_channel, height, width))\n",
    "        inputs = subnet(inputs)\n",
    "        inputs = torch.reshape(\n",
    "            inputs,\n",
    "            (seq_number, batch_size, inputs.size(1), inputs.size(2), inputs.size(3)),\n",
    "        )\n",
    "        outputs_stage, state_stage = rnn(inputs, None)\n",
    "        return outputs_stage, state_stage\n",
    "\n",
    "    def forward(self, inputs):\n",
    "        inputs = inputs.transpose(0, 1)  # to S,B,1,64,64\n",
    "        hidden_states = []\n",
    "        logging.debug(inputs.size())\n",
    "        for i in range(1, self.blocks + 1):\n",
    "            inputs, state_stage = self.forward_by_stage(\n",
    "                inputs, getattr(self, \"stage\" + str(i)), getattr(self, \"rnn\" + str(i))\n",
    "            )\n",
    "            hidden_states.append(state_stage)\n",
    "        return tuple(hidden_states)\n",
    "\n"
   ]
  },
  {
   "cell_type": "code",
   "execution_count": 46,
   "metadata": {},
   "outputs": [],
   "source": [
    "convlstm_encoder_params = [\n",
    "    [\n",
    "        OrderedDict({\"conv1_leaky_1\": [1, 16, 3, 1, 1]}),\n",
    "        OrderedDict({\"conv2_leaky_1\": [64, 64, 3, 2, 1]}),\n",
    "        OrderedDict({\"conv3_leaky_1\": [96, 96, 3, 2, 1]}),\n",
    "    ],\n",
    "    [\n",
    "        CLSTM_cell(shape=(64, 64), input_channels=16, filter_size=5, num_features=64),\n",
    "        CLSTM_cell(shape=(32, 32), input_channels=64, filter_size=5, num_features=96),\n",
    "        CLSTM_cell(shape=(16, 16), input_channels=96, filter_size=5, num_features=96),\n",
    "    ],\n",
    "]\n"
   ]
  },
  {
   "cell_type": "markdown",
   "metadata": {},
   "source": [
    "### Experimenting with `CLSTM_cell`"
   ]
  },
  {
   "cell_type": "code",
   "execution_count": 47,
   "metadata": {},
   "outputs": [],
   "source": [
    "# conv = CLSTM_cell((32, 32), 3, 5, 24)\n",
    "# print(conv)\n",
    "\n",
    "# batch_size = 11\n",
    "# in_channels = 3\n",
    "# frame_size = (32, 32)\n",
    "# seq_length = 12\n",
    "# X = torch.rand(batch_size, seq_length, in_channels, *frame_size)\n",
    "\n",
    "# # Need switch the batch_size and seq_length dimensions\n",
    "# outputs, (h, c) = conv(X.transpose(0, 1)) \n",
    "\n",
    "# print(outputs.size())\n",
    "# print(h.size())\n",
    "# print(c.size())\n",
    "\n",
    "# # Outputs are the collection of cell states in the sequence\n",
    "# print((outputs[-1] - h).norm())\n"
   ]
  },
  {
   "cell_type": "code",
   "execution_count": 49,
   "metadata": {},
   "outputs": [],
   "source": [
    "encoder = Encoder(convlstm_encoder_params[0],convlstm_encoder_params[1])"
   ]
  },
  {
   "cell_type": "code",
   "execution_count": 56,
   "metadata": {},
   "outputs": [
    {
     "data": {
      "text/plain": [
       "Sequential(\n",
       "  (conv1_leaky_1): Conv2d(1, 16, kernel_size=(3, 3), stride=(1, 1), padding=(1, 1))\n",
       "  (leaky_conv1_leaky_1): LeakyReLU(negative_slope=0.2, inplace=True)\n",
       ")"
      ]
     },
     "execution_count": 56,
     "metadata": {},
     "output_type": "execute_result"
    }
   ],
   "source": [
    "encoder.stage1"
   ]
  },
  {
   "cell_type": "code",
   "execution_count": null,
   "metadata": {},
   "outputs": [],
   "source": []
  }
 ],
 "metadata": {
  "interpreter": {
   "hash": "d201a29f7c4182ebe0d045b868be9ef5a41c2ba4cccd19f1728f184a837bb8e6"
  },
  "kernelspec": {
   "display_name": "Python 3.9.12 ('pytorch')",
   "language": "python",
   "name": "python3"
  },
  "language_info": {
   "codemirror_mode": {
    "name": "ipython",
    "version": 3
   },
   "file_extension": ".py",
   "mimetype": "text/x-python",
   "name": "python",
   "nbconvert_exporter": "python",
   "pygments_lexer": "ipython3",
   "version": "3.9.12"
  },
  "orig_nbformat": 4
 },
 "nbformat": 4,
 "nbformat_minor": 2
}
