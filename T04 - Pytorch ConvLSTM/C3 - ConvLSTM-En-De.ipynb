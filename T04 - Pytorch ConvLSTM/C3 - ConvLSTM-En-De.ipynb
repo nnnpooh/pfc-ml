{
 "cells": [
  {
   "cell_type": "code",
   "execution_count": 33,
   "metadata": {},
   "outputs": [],
   "source": [
    "from collections import OrderedDict\n",
    "import torch\n",
    "import torch.nn as nn\n",
    "import logging\n",
    "import pickle, os\n",
    "import matplotlib.pyplot as plt\n",
    "import numpy as np\n",
    "from torch.utils.data import DataLoader\n",
    "from torch.optim import Adam"
   ]
  },
  {
   "cell_type": "code",
   "execution_count": 34,
   "metadata": {},
   "outputs": [],
   "source": [
    "class CLSTM_cell(nn.Module):\n",
    "    def __init__(self, shape, input_channels, filter_size, num_features):\n",
    "        super(CLSTM_cell, self).__init__()\n",
    "\n",
    "        self.shape = shape  # H, W\n",
    "        self.input_channels = input_channels\n",
    "\n",
    "        if type(filter_size) == tuple:  # PFC size (1, W)\n",
    "            assert filter_size[0] == 1\n",
    "            self.filter_size = filter_size\n",
    "            self.padding = \"same\"\n",
    "        else:\n",
    "            self.filter_size = filter_size\n",
    "            self.padding = (filter_size - 1) // 2\n",
    "\n",
    "        self.num_features = num_features\n",
    "        # in this way the output has the same size\n",
    "        self.conv = nn.Sequential(\n",
    "            nn.Conv2d(\n",
    "                self.input_channels + self.num_features,\n",
    "                4 * self.num_features,\n",
    "                self.filter_size,\n",
    "                1,\n",
    "                self.padding,\n",
    "            ),\n",
    "            nn.GroupNorm(4 * self.num_features // 32, 4 * self.num_features),\n",
    "        )\n",
    "\n",
    "    def forward(self, inputs=None, hidden_state=None, seq_len=10):\n",
    "        #  seq_len=10 for moving_mnist\n",
    "        if hidden_state is None:\n",
    "            hx = torch.zeros(\n",
    "                inputs.size(1), self.num_features, self.shape[0], self.shape[1]\n",
    "            )\n",
    "            cx = torch.zeros(\n",
    "                inputs.size(1), self.num_features, self.shape[0], self.shape[1]\n",
    "            )\n",
    "        else:\n",
    "            hx, cx = hidden_state\n",
    "        output_inner = []\n",
    "        for index in range(seq_len):\n",
    "            if inputs is None:\n",
    "                x = torch.zeros(\n",
    "                    hx.size(0), self.input_channels, self.shape[0], self.shape[1]\n",
    "                )\n",
    "            else:\n",
    "                x = inputs[index, ...]\n",
    "\n",
    "            combined = torch.cat((x, hx), 1)\n",
    "            gates = self.conv(combined)  # gates: S, num_features*4, H, W\n",
    "            # it should return 4 tensors: i,f,g,o\n",
    "            ingate, forgetgate, cellgate, outgate = torch.split(\n",
    "                gates, self.num_features, dim=1\n",
    "            )\n",
    "            ingate = torch.sigmoid(ingate)\n",
    "            forgetgate = torch.sigmoid(forgetgate)\n",
    "            cellgate = torch.tanh(cellgate)\n",
    "            outgate = torch.sigmoid(outgate)\n",
    "\n",
    "            cy = (forgetgate * cx) + (ingate * cellgate)\n",
    "            hy = outgate * torch.tanh(cy)\n",
    "            output_inner.append(hy)\n",
    "            hx = hy\n",
    "            cx = cy\n",
    "        return torch.stack(output_inner), (hy, cy)\n"
   ]
  },
  {
   "cell_type": "code",
   "execution_count": 35,
   "metadata": {},
   "outputs": [],
   "source": [
    "def make_layers(block):\n",
    "    layers = []\n",
    "    for layer_name, v in block.items():\n",
    "        if \"pool\" in layer_name:\n",
    "            layer = nn.MaxPool2d(kernel_size=v[0], stride=v[1], padding=v[2])\n",
    "            layers.append((layer_name, layer))\n",
    "        elif \"deconv\" in layer_name:\n",
    "            transposeConv2d = nn.ConvTranspose2d(\n",
    "                in_channels=v[0],\n",
    "                out_channels=v[1],\n",
    "                kernel_size=v[2],\n",
    "                stride=v[3],\n",
    "                padding=v[4],\n",
    "            )\n",
    "            layers.append((layer_name, transposeConv2d))\n",
    "            if \"relu\" in layer_name:\n",
    "                layers.append((\"relu_\" + layer_name, nn.ReLU(inplace=True)))\n",
    "            elif \"leaky\" in layer_name:\n",
    "                layers.append(\n",
    "                    (\n",
    "                        \"leaky_\" + layer_name,\n",
    "                        nn.LeakyReLU(negative_slope=0.2, inplace=True),\n",
    "                    )\n",
    "                )\n",
    "        elif \"conv\" in layer_name:\n",
    "            conv2d = nn.Conv2d(\n",
    "                in_channels=v[0],\n",
    "                out_channels=v[1],\n",
    "                kernel_size=v[2],\n",
    "                stride=v[3],\n",
    "                padding=v[4],\n",
    "            )\n",
    "            layers.append((layer_name, conv2d))\n",
    "            if \"relu\" in layer_name:\n",
    "                layers.append((\"relu_\" + layer_name, nn.ReLU(inplace=True)))\n",
    "            elif \"leaky\" in layer_name:\n",
    "                layers.append(\n",
    "                    (\n",
    "                        \"leaky_\" + layer_name,\n",
    "                        nn.LeakyReLU(negative_slope=0.2, inplace=True),\n",
    "                    )\n",
    "                )\n",
    "        else:\n",
    "            raise NotImplementedError\n",
    "    return nn.Sequential(OrderedDict(layers))\n"
   ]
  },
  {
   "cell_type": "code",
   "execution_count": 36,
   "metadata": {},
   "outputs": [],
   "source": [
    "class Encoder(nn.Module):\n",
    "    def __init__(self, subnets, rnns):\n",
    "        super().__init__()\n",
    "        assert len(subnets) == len(rnns)\n",
    "        self.blocks = len(subnets)\n",
    "\n",
    "        for index, (params, rnn) in enumerate(zip(subnets, rnns), 1):\n",
    "            # index sign from 1\n",
    "            setattr(self, \"stage\" + str(index), make_layers(params))\n",
    "            setattr(self, \"rnn\" + str(index), rnn)\n",
    "\n",
    "    def forward_by_stage(self, inputs, subnet, rnn):\n",
    "        seq_number, batch_size, input_channel, height, width = inputs.size()\n",
    "        inputs = torch.reshape(inputs, (-1, input_channel, height, width))\n",
    "        inputs = subnet(inputs)\n",
    "        inputs = torch.reshape(\n",
    "            inputs,\n",
    "            (seq_number, batch_size, inputs.size(1), inputs.size(2), inputs.size(3)),\n",
    "        )\n",
    "        outputs_stage, state_stage = rnn(inputs, None)\n",
    "        return outputs_stage, state_stage\n",
    "\n",
    "    def forward(self, inputs):\n",
    "        inputs = inputs.transpose(0, 1)  # to S,B,1,64,64\n",
    "        hidden_states = []\n",
    "        logging.debug(inputs.size())\n",
    "        for i in range(1, self.blocks + 1):\n",
    "            inputs, state_stage = self.forward_by_stage(\n",
    "                inputs, getattr(self, \"stage\" + str(i)), getattr(self, \"rnn\" + str(i))\n",
    "            )\n",
    "            hidden_states.append(state_stage)\n",
    "        return tuple(hidden_states)\n",
    "\n"
   ]
  },
  {
   "cell_type": "code",
   "execution_count": 37,
   "metadata": {},
   "outputs": [],
   "source": [
    "class Decoder(nn.Module):\n",
    "    def __init__(self, subnets, rnns):\n",
    "        super().__init__()\n",
    "        assert len(subnets) == len(rnns)\n",
    "\n",
    "        self.blocks = len(subnets)\n",
    "\n",
    "        for index, (params, rnn) in enumerate(zip(subnets, rnns)):\n",
    "            setattr(self, \"rnn\" + str(self.blocks - index), rnn)\n",
    "            setattr(self, \"stage\" + str(self.blocks - index), make_layers(params))\n",
    "\n",
    "    def forward_by_stage(self, inputs, state, subnet, rnn):\n",
    "        inputs, state_stage = rnn(inputs, state, seq_len=10)\n",
    "        seq_number, batch_size, input_channel, height, width = inputs.size()\n",
    "        inputs = torch.reshape(inputs, (-1, input_channel, height, width))\n",
    "        inputs = subnet(inputs)\n",
    "        inputs = torch.reshape(\n",
    "            inputs,\n",
    "            (seq_number, batch_size, inputs.size(1), inputs.size(2), inputs.size(3)),\n",
    "        )\n",
    "        return inputs\n",
    "\n",
    "        # input: 5D S*B*C*H*W\n",
    "\n",
    "    def forward(self, hidden_states):\n",
    "        inputs = self.forward_by_stage(\n",
    "            None, hidden_states[-1], getattr(self, \"stage3\"), getattr(self, \"rnn3\")\n",
    "        )\n",
    "        for i in list(range(1, self.blocks))[::-1]:\n",
    "            inputs = self.forward_by_stage(\n",
    "                inputs,\n",
    "                hidden_states[i - 1],\n",
    "                getattr(self, \"stage\" + str(i)),\n",
    "                getattr(self, \"rnn\" + str(i)),\n",
    "            )\n",
    "        inputs = inputs.transpose(0, 1)  # to B,S,1,64,64\n",
    "        return inputs\n"
   ]
  },
  {
   "cell_type": "markdown",
   "metadata": {},
   "source": [
    "# Experiment\n"
   ]
  },
  {
   "cell_type": "code",
   "execution_count": 38,
   "metadata": {},
   "outputs": [],
   "source": [
    "# convlstm_encoder_params = [\n",
    "#     [\n",
    "#         OrderedDict(\n",
    "#             {\"conv1_leaky_1\": [1, 16, 3, 1, 1]}\n",
    "#         ),  # in_channel, out_channel, kernel_size, stride, padding\n",
    "#         OrderedDict({\"conv2_leaky_1\": [64, 64, 3, 2, 1]}),\n",
    "#         OrderedDict({\"conv3_leaky_1\": [96, 96, 3, 2, 1]}),\n",
    "#     ],\n",
    "#     [\n",
    "#         CLSTM_cell(shape=(64, 64), input_channels=16, filter_size=5, num_features=64),\n",
    "#         CLSTM_cell(shape=(32, 32), input_channels=64, filter_size=5, num_features=96),\n",
    "#         CLSTM_cell(shape=(16, 16), input_channels=96, filter_size=5, num_features=96),\n",
    "#     ],\n",
    "# ]\n",
    "# convlstm_decoder_params = [\n",
    "#     [\n",
    "#         OrderedDict({\"deconv1_leaky_1\": [96, 96, 4, 2, 1]}),\n",
    "#         OrderedDict({\"deconv2_leaky_1\": [96, 96, 4, 2, 1]}),\n",
    "#         OrderedDict(\n",
    "#             {\"conv3_leaky_1\": [64, 16, 3, 1, 1], \"conv4_leaky_1\": [16, 1, 1, 1, 0]}\n",
    "#         ),\n",
    "#     ],\n",
    "#     [\n",
    "#         CLSTM_cell(shape=(16, 16), input_channels=96, filter_size=5, num_features=96),\n",
    "#         CLSTM_cell(shape=(32, 32), input_channels=96, filter_size=5, num_features=96),\n",
    "#         CLSTM_cell(shape=(64, 64), input_channels=96, filter_size=5, num_features=64),\n",
    "#     ],\n",
    "# ]\n"
   ]
  },
  {
   "cell_type": "markdown",
   "metadata": {},
   "source": [
    "### Experimenting with `CLSTM_cell`\n"
   ]
  },
  {
   "cell_type": "code",
   "execution_count": 39,
   "metadata": {},
   "outputs": [],
   "source": [
    "# conv = CLSTM_cell((32, 32), 3, 5, 24)\n",
    "# print(conv)\n",
    "\n",
    "# batch_size = 11\n",
    "# in_channels = 3\n",
    "# frame_size = (32, 32)\n",
    "# seq_length = 12\n",
    "# X = torch.rand(batch_size, seq_length, in_channels, *frame_size)\n",
    "\n",
    "# # Need switch the batch_size and seq_length dimensions\n",
    "# outputs, (h, c) = conv(X.transpose(0, 1))\n",
    "\n",
    "# print(outputs.size())\n",
    "# print(h.size())\n",
    "# print(c.size())\n",
    "\n",
    "# # Outputs are the collection of cell states in the sequence\n",
    "# print((outputs[-1] - h).norm())\n"
   ]
  },
  {
   "cell_type": "markdown",
   "metadata": {},
   "source": [
    "### Experimenting with `Encoder`\n"
   ]
  },
  {
   "cell_type": "code",
   "execution_count": 40,
   "metadata": {},
   "outputs": [],
   "source": [
    "# encoder = Encoder(convlstm_encoder_params[0], convlstm_encoder_params[1])\n",
    "# encoder.rnn1\n"
   ]
  },
  {
   "cell_type": "code",
   "execution_count": 41,
   "metadata": {},
   "outputs": [],
   "source": [
    "# Setting up\n",
    "# batch_size = 11\n",
    "# in_channels = 1\n",
    "# frame_size = (64, 64)\n",
    "# seq_length = 12\n",
    "# X = torch.rand(batch_size, seq_length, in_channels, *frame_size)\n",
    "# print(X.size())\n",
    "# X = X.transpose(0, 1)\n",
    "# print(X.size())\n"
   ]
  },
  {
   "cell_type": "code",
   "execution_count": 42,
   "metadata": {},
   "outputs": [],
   "source": [
    "# hidden_states = []\n",
    "# # Stage 1\n",
    "# input_channel = in_channels\n",
    "# height, width = frame_size\n",
    "# seq_number = seq_length\n",
    "# print(\"----------\")\n",
    "# print(X.size())\n",
    "# X = torch.reshape(X, (-1, input_channel, height, width))\n",
    "# print(X.size())\n",
    "# X = encoder.stage1(X)\n",
    "# print(X.size())\n",
    "# X = torch.reshape(X, (seq_number, batch_size, X.size(1), X.size(2), X.size(3)))\n",
    "# print(X.size())\n",
    "# # ConvLSTM\n",
    "# X, (h, c) = encoder.rnn1(X, seq_len=seq_length)\n",
    "# print(X.size(), h.size(), c.size())\n",
    "# hidden_states.append((h, c))\n",
    "\n",
    "# # Stage 2\n",
    "# print(\"----------\")\n",
    "# input_channel = 64\n",
    "# height, width = (64, 64)\n",
    "# seq_number = seq_length\n",
    "# print(X.size())\n",
    "# X = torch.reshape(X, (-1, input_channel, height, width))\n",
    "# print(X.size())\n",
    "# X = encoder.stage2(X)\n",
    "# print(X.size())\n",
    "# X = torch.reshape(X, (seq_number, batch_size, X.size(1), X.size(2), X.size(3)))\n",
    "# print(X.size())\n",
    "# # ConvLSTM\n",
    "# X, (h, c) = encoder.rnn2(X, seq_len=seq_length)\n",
    "# print(X.size(), h.size(), c.size())\n",
    "# hidden_states.append((h, c))\n",
    "# # Stage 3\n",
    "# print(\"----------\")\n",
    "# input_channel = 96\n",
    "# height, width = (32, 32)\n",
    "# seq_number = seq_length\n",
    "# print(X.size())\n",
    "# X = torch.reshape(X, (-1, input_channel, height, width))\n",
    "# print(X.size())\n",
    "# X = encoder.stage3(X)\n",
    "# print(X.size())\n",
    "# X = torch.reshape(X, (seq_number, batch_size, X.size(1), X.size(2), X.size(3)))\n",
    "# print(X.size())\n",
    "# # ConvLSTM\n",
    "# X, (h, c) = encoder.rnn3(X, seq_len=seq_length)\n",
    "# print(X.size(), h.size(), c.size())\n",
    "# hidden_states.append((h, c))\n",
    "\n",
    "# X_en = X\n",
    "# hidden_states = tuple(hidden_states)\n"
   ]
  },
  {
   "cell_type": "markdown",
   "metadata": {},
   "source": [
    "### Experiment with `Decoder`\n"
   ]
  },
  {
   "cell_type": "code",
   "execution_count": 43,
   "metadata": {},
   "outputs": [],
   "source": [
    "# decoder = Decoder(convlstm_decoder_params[0], convlstm_decoder_params[1])\n",
    "# decoder.stage1\n"
   ]
  },
  {
   "cell_type": "code",
   "execution_count": 44,
   "metadata": {},
   "outputs": [],
   "source": [
    "# Experimenting with transposed convolution\n",
    "# https://pytorch.org/docs/stable/generated/torch.nn.ConvTranspose2d.html\n",
    "# Hin = 16\n",
    "# stride = 2\n",
    "# padding = 1\n",
    "# dilation = 1\n",
    "# kernel_size = 4\n",
    "# output_padding = 0\n",
    "# Hout = (\n",
    "#     (Hin - 1) * stride - 2 * padding + dilation * (kernel_size - 1) + output_padding + 1\n",
    "# )\n",
    "# print(Hin, Hout)\n"
   ]
  },
  {
   "cell_type": "code",
   "execution_count": 45,
   "metadata": {},
   "outputs": [],
   "source": [
    "# X = X_en\n",
    "# print(X.size())\n",
    "\n",
    "# input_channel = 96\n",
    "# height, width = (16, 16)\n",
    "# seq_number = seq_length\n",
    "# X, (h, c) = decoder.rnn3(inputs=X, hidden_state=hidden_states[2], seq_len=seq_length)\n",
    "# print(X.size(), h.size(), c.size())\n",
    "# X = torch.reshape(X, (-1, input_channel, height, width))\n",
    "# print(X.size())\n",
    "# X = decoder.stage3(X)\n",
    "# print(X.size())\n",
    "# X = torch.reshape(X, (seq_number, batch_size, X.size(1), X.size(2), X.size(3)))\n",
    "# print(X.size())\n",
    "\n",
    "# input_channel = 96\n",
    "# height, width = (32, 32)\n",
    "# seq_number = seq_length\n",
    "# print('-----------')\n",
    "# X, (h, c) = decoder.rnn2(inputs=X, hidden_state=hidden_states[1], seq_len=seq_length)\n",
    "# print(X.size(), h.size(), c.size())\n",
    "# X = torch.reshape(X, (-1, input_channel, height, width))\n",
    "# print(X.size())\n",
    "# X = decoder.stage2(X)\n",
    "# print(X.size())\n",
    "# X = torch.reshape(X, (seq_number, batch_size, X.size(1), X.size(2), X.size(3)))\n",
    "# print(X.size())\n",
    "\n",
    "# input_channel = 96\n",
    "# height, width = (64, 64)\n",
    "# seq_number = seq_length\n",
    "# print('-----------')\n",
    "# X, (h, c) = decoder.rnn1(inputs=X, hidden_state=hidden_states[0], seq_len=seq_length)\n",
    "# print(X.size(), h.size(), c.size())\n",
    "# _, _, input_channel, _, _ = X.size()\n",
    "# X = torch.reshape(X, (-1, input_channel, height, width))\n",
    "# print(X.size())\n",
    "# X = decoder.stage1(X)\n",
    "# print(X.size())\n",
    "# X = torch.reshape(X, (seq_number, batch_size, X.size(1), X.size(2), X.size(3)))\n",
    "# print(X.size())\n"
   ]
  },
  {
   "cell_type": "markdown",
   "metadata": {},
   "source": [
    "# PFC data\n"
   ]
  },
  {
   "cell_type": "code",
   "execution_count": 46,
   "metadata": {},
   "outputs": [],
   "source": [
    "in_channels = 1\n",
    "out_channels = 10\n",
    "kernel_size = (1, 3)\n",
    "padding = \"same\"\n",
    "activation = \"tanh\"\n",
    "frame_size = (1, 32)\n",
    "batch_size = 10 \n",
    "seq_length = 10\n",
    "num_channels = in_channels\n",
    "num_kernels = out_channels\n",
    "num_layers = 4"
   ]
  },
  {
   "cell_type": "code",
   "execution_count": 47,
   "metadata": {},
   "outputs": [
    {
     "name": "stdout",
     "output_type": "stream",
     "text": [
      "d:\\Work\\Coding\\research\\pfc-ml\\T02 - PFC - ConvLSTM\\output\\2022-05-08-07-21-22\\data_store.pickle\n"
     ]
    }
   ],
   "source": [
    "# Data folder\n",
    "cwd = os.getcwd()\n",
    "folderPFC = \"T02 - PFC - ConvLSTM\"\n",
    "folderOutput = \"2022-05-08-07-21-22\"\n",
    "rootFolder = os.path.dirname(cwd)  # Up one level\n",
    "filePath = os.path.join(\n",
    "    rootFolder, folderPFC, \"output\", folderOutput, \"data_store.pickle\"\n",
    ")\n",
    "print(filePath)\n"
   ]
  },
  {
   "cell_type": "code",
   "execution_count": 48,
   "metadata": {},
   "outputs": [],
   "source": [
    "# Load data (deserialize)\n",
    "with open(filePath, \"rb\") as handle:\n",
    "    data_dict = pickle.load(handle)\n",
    "\n",
    "data = data_dict[\"data\"]\n",
    "# nCol = data_dict[\"n\"]\n",
    "# nRow = 1\n",
    "# nChannel = 1\n",
    "# tFinal = data_dict[\"tf\"]\n",
    "# dx = data_dict[\"dx\"]\n",
    "# L = data_dict[\"L\"]\n"
   ]
  },
  {
   "cell_type": "code",
   "execution_count": 49,
   "metadata": {},
   "outputs": [
    {
     "data": {
      "text/plain": [
       "[<matplotlib.lines.Line2D at 0x20942ab6400>]"
      ]
     },
     "execution_count": 49,
     "metadata": {},
     "output_type": "execute_result"
    },
    {
     "data": {
      "image/png": "[encoded data removed]",
      "text/plain": [
       "<Figure size 432x288 with 1 Axes>"
      ]
     },
     "metadata": {
      "needs_background": "light"
     },
     "output_type": "display_data"
    }
   ],
   "source": [
    "# Due to sigmoid function, the output cannot be negative.  I could however, use linear layer to fix this?\n",
    "maxVal = data.max()\n",
    "minVal = data.min()\n",
    "dataScaled = (data - minVal) / (maxVal - minVal)\n",
    "plt.plot(dataScaled[-1, :])"
   ]
  },
  {
   "cell_type": "code",
   "execution_count": 50,
   "metadata": {},
   "outputs": [],
   "source": [
    "class MyDataset(torch.utils.data.Dataset):\n",
    "    def __init__(self, data, seq_length, num_channels, frame_size):\n",
    "        X_, y_ = self.split_sequence(data, seq_length)\n",
    "        X_ = X_.reshape(X_.shape[0], num_channels, seq_length, *frame_size)\n",
    "        self.X = torch.from_numpy(\n",
    "            X_\n",
    "        ).float()  # numpy array data is double but the parameters in the nn layers are float.\n",
    "        self.y = torch.from_numpy(y_).float()\n",
    "\n",
    "    def __len__(self):\n",
    "        \"Denotes the total number of samples\"\n",
    "        return self.X.shape[0]\n",
    "\n",
    "    # Probabably a better way here: https://diegslva.github.io/2017-05-02-first-post/\n",
    "    def split_sequence(self, data, nSeq):\n",
    "        X, y = list(), list()\n",
    "        nRow = data.shape[0]\n",
    "        for i in range(nRow):\n",
    "            # find the end of this pattern\n",
    "            end_ix = i + nSeq\n",
    "            # check if we are beyond the sequence\n",
    "            if end_ix > nRow - 1:\n",
    "                break\n",
    "                # gather input and output parts of the pattern\n",
    "            seq_x, seq_y = data[i:end_ix, :], data[end_ix, :]\n",
    "            X.append(seq_x)\n",
    "            y.append(seq_y)\n",
    "        return np.array(X), np.array(y)\n",
    "\n",
    "    def __getitem__(self, index):\n",
    "        \"Generates one sample of data\"\n",
    "        # Select sample\n",
    "        X = self.X[index]\n",
    "        y = self.y[index]\n",
    "        X = X.transpose(0,1) #Change to seq_len, channel, H, W)\n",
    "        return X, y "
   ]
  },
  {
   "cell_type": "code",
   "execution_count": 51,
   "metadata": {},
   "outputs": [],
   "source": [
    "ds = MyDataset(dataScaled, seq_length, num_channels, frame_size)\n",
    "train_loader = DataLoader(ds, shuffle=True, batch_size=batch_size)"
   ]
  },
  {
   "cell_type": "code",
   "execution_count": 52,
   "metadata": {},
   "outputs": [
    {
     "name": "stdout",
     "output_type": "stream",
     "text": [
      "torch.Size([10, 10, 1, 1, 32])\n",
      "torch.Size([10, 32])\n"
     ]
    },
    {
     "data": {
      "image/png": "[encoded data removed]",
      "text/plain": [
       "<Figure size 432x288 with 1 Axes>"
      ]
     },
     "metadata": {
      "needs_background": "light"
     },
     "output_type": "display_data"
    }
   ],
   "source": [
    "train_, phi_ = next(iter(train_loader))\n",
    "print(train_.shape)\n",
    "print(phi_.shape)\n",
    "train = train_[0, 0, -1, 0, :].cpu().detach().numpy()\n",
    "plt.plot(train)\n",
    "plt.show()\n"
   ]
  },
  {
   "cell_type": "code",
   "execution_count": 53,
   "metadata": {},
   "outputs": [],
   "source": [
    "convlstm_encoder_params = [\n",
    "    [\n",
    "        OrderedDict(\n",
    "            {\"conv1_leaky_1\": [1, 16, (1, 3), (1, 1), (0, 1)]}\n",
    "        ),  # in_channel, out_channel, kernel_size, stride, padding\n",
    "        OrderedDict({\"conv2_leaky_1\": [64, 64, (1, 3), (1, 2), (0, 1)]}),\n",
    "        OrderedDict({\"conv3_leaky_1\": [96, 96, (1, 3), (1, 2), (0, 1)]}),\n",
    "    ],\n",
    "    [\n",
    "        CLSTM_cell(\n",
    "            shape=(1, 32), input_channels=16, filter_size=(1, 5), num_features=64\n",
    "        ),\n",
    "        CLSTM_cell(\n",
    "            shape=(1, 16), input_channels=64, filter_size=(1, 5), num_features=96\n",
    "        ),\n",
    "        CLSTM_cell(\n",
    "            shape=(1, 8), input_channels=96, filter_size=(1, 5), num_features=96\n",
    "        ),\n",
    "    ],\n",
    "]\n",
    "\n",
    "convlstm_decoder_params = [\n",
    "    [\n",
    "        OrderedDict({\"deconv1_leaky_1\": [96, 96, (1, 4), (1, 2), (0, 1)]}),\n",
    "        OrderedDict({\"deconv2_leaky_1\": [96, 96, (1, 4), (1, 2), (0, 1)]}),\n",
    "        OrderedDict(\n",
    "            {\n",
    "                \"conv3_leaky_1\": [64, 16, (1, 3), (1, 1), (0, 1)],\n",
    "                \"conv4_leaky_1\": [16, 1, 1, 1, 0],\n",
    "            }  # in_channel, out_channels, kernel_size, stride, padding\n",
    "        ),\n",
    "    ],\n",
    "    [\n",
    "        CLSTM_cell(\n",
    "            shape=(1, 8), input_channels=96, filter_size=(1, 5), num_features=96\n",
    "        ),\n",
    "        CLSTM_cell(shape=(1, 16), input_channels=96, filter_size=5, num_features=96),\n",
    "        CLSTM_cell(shape=(1, 32), input_channels=96, filter_size=5, num_features=64),\n",
    "    ],\n",
    "]\n"
   ]
  },
  {
   "cell_type": "code",
   "execution_count": 54,
   "metadata": {},
   "outputs": [
    {
     "name": "stdout",
     "output_type": "stream",
     "text": [
      "32 => 32.0 (= 32.0) \n",
      "16 => 8.5 (= 8.0) \n",
      "1 => 1.0 (= 1.0) \n",
      "16 => 32\n",
      "1 => 1\n"
     ]
    }
   ],
   "source": [
    "def calConvSize(Win, kernel_size, stride, padding):\n",
    "    # The size is the floor value.\n",
    "    # https://discuss.pytorch.org/t/how-to-calculate-the-output-size-after-conv2d-in-pytorch/20405\n",
    "    Wout = ((Win - kernel_size + 2 * padding) / stride) + 1\n",
    "    print(f\"{Win} => {Wout} (= {np.floor(Wout)}) \")\n",
    "\n",
    "\n",
    "def calTransConvSize(Win, kernel_size, stride, padding, dilation=1, output_padding=0):\n",
    "    Wout = (\n",
    "        (Win - 1) * stride\n",
    "        - 2 * padding\n",
    "        + dilation * (kernel_size - 1)\n",
    "        + output_padding\n",
    "        + 1\n",
    "    )\n",
    "    print(f\"{Win} => {Wout}\")\n",
    "\n",
    "\n",
    "calConvSize(Win=32, kernel_size=3, stride=1, padding=1)\n",
    "calConvSize(Win=16, kernel_size=3, stride=2, padding=1)\n",
    "calConvSize(Win=1, kernel_size=1, stride=1, padding=0)\n",
    "\n",
    "calTransConvSize(Win=16, kernel_size=4, stride=2, padding=1)\n",
    "calTransConvSize(Win=1, kernel_size=1, stride=1, padding=0)\n"
   ]
  },
  {
   "cell_type": "code",
   "execution_count": 55,
   "metadata": {},
   "outputs": [],
   "source": [
    "encoder = Encoder(convlstm_encoder_params[0], convlstm_encoder_params[1])\n",
    "decoder = Decoder(convlstm_decoder_params[0], convlstm_decoder_params[1])"
   ]
  },
  {
   "cell_type": "code",
   "execution_count": 56,
   "metadata": {},
   "outputs": [],
   "source": [
    "class ED(nn.Module):\n",
    "\n",
    "    def __init__(self, encoder, decoder):\n",
    "        super().__init__()\n",
    "        self.encoder = encoder\n",
    "        self.decoder = decoder\n",
    "\n",
    "    def forward(self, input):\n",
    "        state = self.encoder(input)\n",
    "        output = self.decoder(state)\n",
    "        return output\n",
    "\n",
    "model = ED(encoder, decoder)\n",
    "\n",
    "optim = Adam(model.parameters(), lr=1e-2)\n",
    "criterion = nn.MSELoss(reduction=\"sum\")"
   ]
  },
  {
   "cell_type": "code",
   "execution_count": 57,
   "metadata": {},
   "outputs": [],
   "source": [
    "class EarlyStopping:\n",
    "    \"\"\"Early stops the training if validation loss doesn't improve after a given patience.\"\"\"\n",
    "\n",
    "    def __init__(\n",
    "        self, patience=7, verbose=False, delta=0, path=\"checkpoint.pt\", trace_func=print\n",
    "    ):\n",
    "        \"\"\"\n",
    "        Args:\n",
    "            patience (int): How long to wait after last time validation loss improved.\n",
    "                            Default: 7\n",
    "            verbose (bool): If True, prints a message for each validation loss improvement. \n",
    "                            Default: False\n",
    "            delta (float): Minimum change in the monitored quantity to qualify as an improvement.\n",
    "                            Default: 0\n",
    "            path (str): Path for the checkpoint to be saved to.\n",
    "                            Default: 'checkpoint.pt'\n",
    "            trace_func (function): trace print function.\n",
    "                            Default: print            \n",
    "        \"\"\"\n",
    "        self.patience = patience\n",
    "        self.verbose = verbose\n",
    "        self.counter = 0\n",
    "        self.best_score = None\n",
    "        self.early_stop = False\n",
    "        self.val_loss_min = np.Inf\n",
    "        self.delta = delta\n",
    "        self.path = path\n",
    "        self.trace_func = trace_func\n",
    "\n",
    "    def __call__(self, val_loss, model):\n",
    "\n",
    "        score = -val_loss\n",
    "\n",
    "        if self.best_score is None:\n",
    "            self.best_score = score\n",
    "            self.save_checkpoint(val_loss, model)\n",
    "        elif score < self.best_score + self.delta:\n",
    "            self.counter += 1\n",
    "            self.trace_func(\n",
    "                f\"EarlyStopping counter: {self.counter} out of {self.patience}\"\n",
    "            )\n",
    "            if self.counter >= self.patience:\n",
    "                self.early_stop = True\n",
    "        else:\n",
    "            self.best_score = score\n",
    "            self.save_checkpoint(val_loss, model)\n",
    "            self.counter = 0\n",
    "\n",
    "    def save_checkpoint(self, val_loss, model):\n",
    "        \"\"\"Saves model when validation loss decrease.\"\"\"\n",
    "        if self.verbose:\n",
    "            self.trace_func(\n",
    "                f\"Validation loss decreased ({self.val_loss_min:.6f} --> {val_loss:.6f}).  Saving model ...\"\n",
    "            )\n",
    "        torch.save(model.state_dict(), self.path)\n",
    "        self.val_loss_min = val_loss"
   ]
  },
  {
   "cell_type": "code",
   "execution_count": 58,
   "metadata": {},
   "outputs": [],
   "source": [
    "class History:\n",
    "    def __init__(self):\n",
    "        self.train_losses = []\n",
    "        self.val_losses = []\n",
    "        self.epoch = []\n",
    "        self.counter = 1\n",
    "    def __call__(self, train_loss, val_loss):\n",
    "        self.train_losses.append(train_loss)\n",
    "        self.val_losses.append(val_loss)\n",
    "        self.epoch.append(self.counter)\n",
    "        self.counter += 1\n"
   ]
  },
  {
   "cell_type": "code",
   "execution_count": 59,
   "metadata": {},
   "outputs": [],
   "source": [
    "num_epochs = 1000\n",
    "patience = 20\n",
    "history = History()\n"
   ]
  },
  {
   "cell_type": "code",
   "execution_count": 60,
   "metadata": {},
   "outputs": [],
   "source": [
    "# num_epochs = 100\n",
    "# (input, target) = next(iter(train_loader))\n",
    "\n",
    "# for epoch in range(1, num_epochs + 1):\n",
    "\n",
    "#     train_loss = 0\n",
    "#     model.train() #https://stackoverflow.com/a/51433411\n",
    "#     outputs = model(input)\n",
    "#     output = outputs[:, -1, ...]\n",
    "#     loss = criterion(output.flatten(), target.flatten())\n",
    "#     loss.backward()\n",
    "#     torch.nn.utils.clip_grad_value_(model.parameters(), clip_value=10.0)\n",
    "#     optim.step()\n",
    "#     optim.zero_grad()\n",
    "#     train_loss += loss.item()\n",
    "#     train_loss /= batch_size\n",
    "\n",
    "#     val_loss = 0\n",
    "#     model.eval()\n",
    "#     with torch.no_grad():\n",
    "#         outputs = model(input)\n",
    "#         output = outputs[:, -1, ...]\n",
    "#         loss = criterion(output.flatten(), target.flatten())\n",
    "#         val_loss += loss.item()\n",
    "#     val_loss /= batch_size\n",
    "\n",
    "#     print(\n",
    "#         \"Epoch:{} Training Loss:{:.8f} Validation Loss:{:.8f}\\n\".format(\n",
    "#             epoch, train_loss, val_loss\n",
    "#         )\n",
    "#     )\n",
    "\n",
    "\n",
    "# phiPred = output[-1,0,0,:].cpu().detach().numpy()\n",
    "# phi = target[-1,:].cpu().detach().numpy()\n",
    "# plt.plot(phi, '--*')\n",
    "# plt.plot(phiPred)"
   ]
  },
  {
   "cell_type": "code",
   "execution_count": 61,
   "metadata": {},
   "outputs": [],
   "source": [
    "# run_mode = 'train'\n",
    "run_mode = 'eval'"
   ]
  },
  {
   "cell_type": "code",
   "execution_count": 62,
   "metadata": {},
   "outputs": [],
   "source": [
    "if run_mode == 'train':\n",
    "    early_stopping = EarlyStopping(patience=patience, verbose=True)\n",
    "    for epoch in range(1, num_epochs + 1):\n",
    "\n",
    "        train_loss = 0\n",
    "        model.train()  # https://stackoverflow.com/a/51433411\n",
    "        for batch_num, (input, target) in enumerate(train_loader, 1):\n",
    "            outputs = model(input)\n",
    "            output = outputs[:, -1, ...]\n",
    "            loss = criterion(output.flatten(), target.flatten())\n",
    "            loss.backward()\n",
    "            torch.nn.utils.clip_grad_value_(model.parameters(), clip_value=10.0)\n",
    "            optim.step()\n",
    "            optim.zero_grad()\n",
    "            train_loss += loss.item()\n",
    "        train_loss /= len(train_loader.dataset)\n",
    "\n",
    "        val_loss = 0\n",
    "        model.train()\n",
    "        with torch.no_grad():\n",
    "            for input, target in train_loader:\n",
    "                outputs = model(input)\n",
    "                output = outputs[:, -1, ...]\n",
    "                loss = criterion(output.flatten(), target.flatten())\n",
    "                val_loss += loss.item()\n",
    "        val_loss /= len(train_loader.dataset)\n",
    "\n",
    "        history(train_loss, val_loss)\n",
    "        print(\n",
    "            \"Epoch:{} Training Loss:{:.8f} Validation Loss:{:.8f}\\n\".format(\n",
    "                epoch, train_loss, val_loss\n",
    "            )\n",
    "        )\n",
    "\n",
    "        early_stopping(val_loss, model)\n",
    "\n",
    "        if early_stopping.early_stop:\n",
    "            print(\"Early stopping\")\n",
    "            break\n"
   ]
  },
  {
   "cell_type": "code",
   "execution_count": 63,
   "metadata": {},
   "outputs": [],
   "source": [
    "if run_mode == 'eval':\n",
    "    model.load_state_dict(torch.load('checkpoint-en-de.pt'))"
   ]
  },
  {
   "cell_type": "code",
   "execution_count": 68,
   "metadata": {},
   "outputs": [
    {
     "name": "stdout",
     "output_type": "stream",
     "text": [
      "torch.Size([10, 1, 1, 32])\n",
      "torch.Size([10, 32])\n"
     ]
    },
    {
     "data": {
      "text/plain": [
       "[<matplotlib.lines.Line2D at 0x2093ca67d00>]"
      ]
     },
     "execution_count": 68,
     "metadata": {},
     "output_type": "execute_result"
    },
    {
     "data": {
      "image/png": "[encoded data removed]",
      "text/plain": [
       "<Figure size 432x288 with 1 Axes>"
      ]
     },
     "metadata": {
      "needs_background": "light"
     },
     "output_type": "display_data"
    }
   ],
   "source": [
    "train_, phi_ = next(iter(train_loader))\n",
    "model.eval()\n",
    "preds_ = model(train_)\n",
    "pred_ = preds_[:, -1, ...]\n",
    "print(pred_.size())\n",
    "print(phi_.size())\n",
    "\n",
    "pred = pred_[-1, 0, 0, :].cpu().detach().numpy()\n",
    "phi = phi_[-1, :].cpu().detach().numpy()\n",
    "plt.plot(phi, \"--*\")\n",
    "plt.plot(pred)"
   ]
  }
 ],
 "metadata": {
  "interpreter": {
   "hash": "d1b9c7f2f57af8f07e064f2c72ed76cd3499c7b2fb82bb3d901b6e74555bba53"
  },
  "kernelspec": {
   "display_name": "Python 3.9.12 ('pytorch')",
   "language": "python",
   "name": "python3"
  },
  "language_info": {
   "codemirror_mode": {
    "name": "ipython",
    "version": 3
   },
   "file_extension": ".py",
   "mimetype": "text/x-python",
   "name": "python",
   "nbconvert_exporter": "python",
   "pygments_lexer": "ipython3",
   "version": "3.9.12"
  },
  "orig_nbformat": 4
 },
 "nbformat": 4,
 "nbformat_minor": 2
}
