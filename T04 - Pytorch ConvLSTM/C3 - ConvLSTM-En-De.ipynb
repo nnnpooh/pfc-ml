{
 "cells": [
  {
   "cell_type": "code",
   "execution_count": 30,
   "metadata": {},
   "outputs": [],
   "source": [
    "from collections import OrderedDict\n",
    "import torch\n",
    "import torch.nn as nn\n"
   ]
  },
  {
   "cell_type": "code",
   "execution_count": 31,
   "metadata": {},
   "outputs": [],
   "source": [
    "class CLSTM_cell(nn.Module):\n",
    "    def __init__(self, shape, input_channels, filter_size, num_features):\n",
    "        super(CLSTM_cell, self).__init__()\n",
    "\n",
    "        self.shape = shape  # H, W\n",
    "        self.input_channels = input_channels\n",
    "        self.filter_size = filter_size\n",
    "        self.num_features = num_features\n",
    "        # in this way the output has the same size\n",
    "        self.padding = (filter_size - 1) // 2\n",
    "        self.conv = nn.Sequential(\n",
    "            nn.Conv2d(\n",
    "                self.input_channels + self.num_features,\n",
    "                4 * self.num_features,\n",
    "                self.filter_size,\n",
    "                1,\n",
    "                self.padding,\n",
    "            ),\n",
    "            nn.GroupNorm(4 * self.num_features // 32, 4 * self.num_features),\n",
    "        )\n",
    "\n",
    "    def forward(self, inputs=None, hidden_state=None, seq_len=10):\n",
    "        #  seq_len=10 for moving_mnist\n",
    "        if hidden_state is None:\n",
    "            hx = torch.zeros(\n",
    "                inputs.size(1), self.num_features, self.shape[0], self.shape[1]\n",
    "            )\n",
    "            cx = torch.zeros(\n",
    "                inputs.size(1), self.num_features, self.shape[0], self.shape[1]\n",
    "            )\n",
    "        else:\n",
    "            hx, cx = hidden_state\n",
    "        output_inner = []\n",
    "        for index in range(seq_len):\n",
    "            if inputs is None:\n",
    "                x = torch.zeros(\n",
    "                    hx.size(0), self.input_channels, self.shape[0], self.shape[1]\n",
    "                )\n",
    "            else:\n",
    "                x = inputs[index, ...]\n",
    "\n",
    "            combined = torch.cat((x, hx), 1)\n",
    "            gates = self.conv(combined)  # gates: S, num_features*4, H, W\n",
    "            # it should return 4 tensors: i,f,g,o\n",
    "            ingate, forgetgate, cellgate, outgate = torch.split(\n",
    "                gates, self.num_features, dim=1\n",
    "            )\n",
    "            ingate = torch.sigmoid(ingate)\n",
    "            forgetgate = torch.sigmoid(forgetgate)\n",
    "            cellgate = torch.tanh(cellgate)\n",
    "            outgate = torch.sigmoid(outgate)\n",
    "\n",
    "            cy = (forgetgate * cx) + (ingate * cellgate)\n",
    "            hy = outgate * torch.tanh(cy)\n",
    "            output_inner.append(hy)\n",
    "            hx = hy\n",
    "            cx = cy\n",
    "        return torch.stack(output_inner), (hy, cy)\n"
   ]
  },
  {
   "cell_type": "code",
   "execution_count": 32,
   "metadata": {},
   "outputs": [],
   "source": [
    "convlstm_encoder_params = [\n",
    "    [\n",
    "        OrderedDict({\"conv1_leaky_1\": [1, 16, 3, 1, 1]}),\n",
    "        OrderedDict({\"conv2_leaky_1\": [64, 64, 3, 2, 1]}),\n",
    "        OrderedDict({\"conv3_leaky_1\": [96, 96, 3, 2, 1]}),\n",
    "    ],\n",
    "    [\n",
    "        CLSTM_cell(shape=(64, 64), input_channels=16, filter_size=5, num_features=64),\n",
    "        CLSTM_cell(shape=(32, 32), input_channels=64, filter_size=5, num_features=96),\n",
    "        CLSTM_cell(shape=(16, 16), input_channels=96, filter_size=5, num_features=96),\n",
    "    ],\n",
    "]\n",
    "\n"
   ]
  },
  {
   "cell_type": "code",
   "execution_count": 33,
   "metadata": {},
   "outputs": [
    {
     "name": "stdout",
     "output_type": "stream",
     "text": [
      "CLSTM_cell(\n",
      "  (conv): Sequential(\n",
      "    (0): Conv2d(27, 96, kernel_size=(5, 5), stride=(1, 1), padding=(2, 2))\n",
      "    (1): GroupNorm(3, 96, eps=1e-05, affine=True)\n",
      "  )\n",
      ")\n"
     ]
    }
   ],
   "source": [
    "conv = CLSTM_cell((32, 32), 3, 5, 24)\n",
    "print(conv)\n"
   ]
  },
  {
   "cell_type": "code",
   "execution_count": 34,
   "metadata": {},
   "outputs": [],
   "source": [
    "batch_size = 11\n",
    "in_channels = 3\n",
    "frame_size = (32, 32)\n",
    "seq_length = 12\n",
    "X = torch.rand(batch_size, seq_length, in_channels, *frame_size)\n"
   ]
  },
  {
   "cell_type": "code",
   "execution_count": 35,
   "metadata": {},
   "outputs": [
    {
     "name": "stdout",
     "output_type": "stream",
     "text": [
      "torch.Size([10, 11, 24, 32, 32])\n",
      "torch.Size([11, 24, 32, 32])\n",
      "torch.Size([11, 24, 32, 32])\n"
     ]
    }
   ],
   "source": [
    "outputs, (h ,c) = conv(X.transpose(0,1))\n",
    "\n",
    "\n",
    "print(outputs.size())\n",
    "print(h.size())\n",
    "print(c.size())"
   ]
  },
  {
   "cell_type": "code",
   "execution_count": null,
   "metadata": {},
   "outputs": [],
   "source": [
    "output[-1,...]"
   ]
  },
  {
   "cell_type": "code",
   "execution_count": 36,
   "metadata": {},
   "outputs": [
    {
     "data": {
      "text/plain": [
       "torch.Size([12, 11, 3, 32, 32])"
      ]
     },
     "execution_count": 36,
     "metadata": {},
     "output_type": "execute_result"
    }
   ],
   "source": [
    "X.transpose(0,1).size()"
   ]
  },
  {
   "cell_type": "code",
   "execution_count": 37,
   "metadata": {},
   "outputs": [
    {
     "data": {
      "text/plain": [
       "torch.Size([11, 3, 32, 32])"
      ]
     },
     "execution_count": 37,
     "metadata": {},
     "output_type": "execute_result"
    }
   ],
   "source": [
    "X.transpose(0,1)[0,...].size()"
   ]
  },
  {
   "cell_type": "code",
   "execution_count": null,
   "metadata": {},
   "outputs": [],
   "source": []
  }
 ],
 "metadata": {
  "interpreter": {
   "hash": "d201a29f7c4182ebe0d045b868be9ef5a41c2ba4cccd19f1728f184a837bb8e6"
  },
  "kernelspec": {
   "display_name": "Python 3.9.12 ('pytorch')",
   "language": "python",
   "name": "python3"
  },
  "language_info": {
   "codemirror_mode": {
    "name": "ipython",
    "version": 3
   },
   "file_extension": ".py",
   "mimetype": "text/x-python",
   "name": "python",
   "nbconvert_exporter": "python",
   "pygments_lexer": "ipython3",
   "version": "3.9.12"
  },
  "orig_nbformat": 4
 },
 "nbformat": 4,
 "nbformat_minor": 2
}
