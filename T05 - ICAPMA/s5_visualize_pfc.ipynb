{
 "cells": [
  {
   "cell_type": "code",
   "execution_count": null,
   "metadata": {},
   "outputs": [],
   "source": [
    "import matplotlib.pyplot as plt\n",
    "import os\n",
    "import numpy as np\n",
    "from utils import read_data"
   ]
  },
  {
   "cell_type": "code",
   "execution_count": null,
   "metadata": {},
   "outputs": [],
   "source": [
    "folderName = \"2023-12-05-21-53-54\"\n",
    "\n",
    "cwd = os.getcwd()\n",
    "folderPath = os.path.join(cwd, \"o1_pfc_train\", folderName)\n",
    "\n",
    "data_pickle, data_json = read_data(folderPath)\n",
    "data = data_pickle[\"data\"]\n",
    "tArray = data_pickle[\"tArray\"]\n",
    "nx = data_json[\"s1\"][\"n\"]\n",
    "dx = data_json[\"s1\"][\"dx\"]\n",
    "L = data_json[\"s1\"][\"L\"]\n",
    "tStart = data_json[\"s1\"][\"tStart\"]\n",
    "tEnd = data_json[\"s1\"][\"tEnd\"]\n",
    "dt = data_json[\"s1\"][\"dt\"]\n",
    "mTotal = data_json[\"s1\"][\"mTotal\"]"
   ]
  },
  {
   "cell_type": "code",
   "execution_count": null,
   "metadata": {},
   "outputs": [],
   "source": [
    "ms = np.arange(0, mTotal - 1, 3)\n",
    "\n",
    "x = np.linspace(0, 2 * np.pi - dx, nx)\n",
    "y = data[-1, :]\n",
    "\n",
    "minV = data[-1, :].min()\n",
    "maxV = data[-1, :].max()\n",
    "minV = minV - minV * 0.1\n",
    "maxV = maxV + maxV * 0.1\n",
    "x = np.linspace(0, 2 * np.pi - dx, nx)\n",
    "figsize = (13, 5)\n",
    "plt.figure(figsize=figsize)\n",
    "\n",
    "for m in ms:\n",
    "    t = tArray[m - 1]\n",
    "    y = data[m, :]\n",
    "    plt.plot(x, np.real(y), \"*-\")\n",
    "\n",
    "# plt.title(f'm = {m}, t={t}')\n",
    "plt.ylim([minV, maxV])\n",
    "plt.grid(True)"
   ]
  }
 ],
 "metadata": {
  "kernelspec": {
   "display_name": "pfc",
   "language": "python",
   "name": "python3"
  },
  "language_info": {
   "codemirror_mode": {
    "name": "ipython",
    "version": 3
   },
   "file_extension": ".py",
   "mimetype": "text/x-python",
   "name": "python",
   "nbconvert_exporter": "python",
   "pygments_lexer": "ipython3",
   "version": "3.10.12"
  }
 },
 "nbformat": 4,
 "nbformat_minor": 2
}
