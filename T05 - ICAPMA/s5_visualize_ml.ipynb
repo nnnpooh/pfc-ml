{
 "cells": [
  {
   "cell_type": "code",
   "execution_count": null,
   "metadata": {},
   "outputs": [],
   "source": [
    "import  os, sys\n",
    "import numpy as np\n",
    "import matplotlib.pyplot as plt\n",
    "from utils import read_data"
   ]
  },
  {
   "cell_type": "code",
   "execution_count": null,
   "metadata": {},
   "outputs": [],
   "source": [
    "\n",
    "folderName= '2023-12-05-22-36-21'\n",
    "#\n",
    "cwd = sys.path[0]\n",
    "folderPath = os.path.join(cwd, \"o4_analyze\", folderName)\n",
    "data_pickle, data_json = read_data(folderPath)\n",
    "\n",
    "X_pred = data_pickle['X_pred']\n",
    "X_true = data_pickle['X_true']\n",
    "tArrayPred = data_pickle['tArrayPred']\n",
    "L2Array = data_pickle[\"L2Array\"]\n",
    "dx = data_json['s1']['dx']\n",
    "L = data_json['s1'][\"L\"]\n",
    "L2 = data_json['s4'][\"L2\"]"
   ]
  },
  {
   "cell_type": "code",
   "execution_count": null,
   "metadata": {},
   "outputs": [],
   "source": [
    "minV = X_true[-1,:].min()\n",
    "maxV = X_true[-1,:].max()\n",
    "minV = minV - abs(maxV) * 0.2\n",
    "maxV = maxV + abs(maxV) * 0.2\n",
    "xp = np.arange(0,L,dx)\n",
    "for t in range(0, X_pred.shape[0], 30):\n",
    "    fig, ax = plt.subplots()\n",
    "    ax.plot(xp, X_true[t,:], '*--')\n",
    "    ax.plot(xp, X_pred[t,:],'s')\n",
    "    ax.set_title(f'Time={tArrayPred[t]}')\n",
    "    ax.set_ylim([minV,maxV])"
   ]
  },
  {
   "cell_type": "code",
   "execution_count": null,
   "metadata": {},
   "outputs": [],
   "source": [
    "fig, ax = plt.subplots()\n",
    "ax.plot(tArrayPred, L2Array,'--*')\n",
    "ax.set_title(r'L2-norm of Error')\n",
    "ax.set_xlabel('Time')"
   ]
  }
 ],
 "metadata": {
  "kernelspec": {
   "display_name": "pfc",
   "language": "python",
   "name": "python3"
  },
  "language_info": {
   "codemirror_mode": {
    "name": "ipython",
    "version": 3
   },
   "file_extension": ".py",
   "mimetype": "text/x-python",
   "name": "python",
   "nbconvert_exporter": "python",
   "pygments_lexer": "ipython3",
   "version": "3.10.12"
  }
 },
 "nbformat": 4,
 "nbformat_minor": 2
}
