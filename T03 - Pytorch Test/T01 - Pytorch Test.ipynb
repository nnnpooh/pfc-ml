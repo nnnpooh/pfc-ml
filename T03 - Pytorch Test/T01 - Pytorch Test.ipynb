{
 "cells": [
  {
   "cell_type": "markdown",
   "metadata": {},
   "source": [
    "# Installation\n",
    "- `conda install pytorch torchvision cpuonly -c pytorch`\n",
    "- `conda install jupyterlab matplotlib pandas`"
   ]
  },
  {
   "cell_type": "code",
   "execution_count": 3,
   "metadata": {},
   "outputs": [],
   "source": [
    "import torch\n",
    "from torch import nn\n",
    "from torch.utils.data import DataLoader\n",
    "from torchvision import datasets\n",
    "from torchvision.transforms import ToTensor\n",
    "from torchviz import make_dot, make_dot_from_trace"
   ]
  },
  {
   "cell_type": "code",
   "execution_count": 4,
   "metadata": {},
   "outputs": [
    {
     "name": "stdout",
     "output_type": "stream",
     "text": [
      "Downloading http://fashion-mnist.s3-website.eu-central-1.amazonaws.com/train-images-idx3-ubyte.gz\n",
      "Downloading http://fashion-mnist.s3-website.eu-central-1.amazonaws.com/train-images-idx3-ubyte.gz to data\\FashionMNIST\\raw\\train-images-idx3-ubyte.gz\n"
     ]
    },
    {
     "name": "stderr",
     "output_type": "stream",
     "text": [
      "100.0%\n"
     ]
    },
    {
     "name": "stdout",
     "output_type": "stream",
     "text": [
      "Extracting data\\FashionMNIST\\raw\\train-images-idx3-ubyte.gz to data\\FashionMNIST\\raw\n",
      "\n",
      "Downloading http://fashion-mnist.s3-website.eu-central-1.amazonaws.com/train-labels-idx1-ubyte.gz\n",
      "Downloading http://fashion-mnist.s3-website.eu-central-1.amazonaws.com/train-labels-idx1-ubyte.gz to data\\FashionMNIST\\raw\\train-labels-idx1-ubyte.gz\n"
     ]
    },
    {
     "name": "stderr",
     "output_type": "stream",
     "text": [
      "100.6%\n"
     ]
    },
    {
     "name": "stdout",
     "output_type": "stream",
     "text": [
      "Extracting data\\FashionMNIST\\raw\\train-labels-idx1-ubyte.gz to data\\FashionMNIST\\raw\n",
      "\n",
      "Downloading http://fashion-mnist.s3-website.eu-central-1.amazonaws.com/t10k-images-idx3-ubyte.gz\n",
      "Downloading http://fashion-mnist.s3-website.eu-central-1.amazonaws.com/t10k-images-idx3-ubyte.gz to data\\FashionMNIST\\raw\\t10k-images-idx3-ubyte.gz\n"
     ]
    },
    {
     "name": "stderr",
     "output_type": "stream",
     "text": [
      "100.0%\n"
     ]
    },
    {
     "name": "stdout",
     "output_type": "stream",
     "text": [
      "Extracting data\\FashionMNIST\\raw\\t10k-images-idx3-ubyte.gz to data\\FashionMNIST\\raw\n",
      "\n",
      "Downloading http://fashion-mnist.s3-website.eu-central-1.amazonaws.com/t10k-labels-idx1-ubyte.gz\n",
      "Downloading http://fashion-mnist.s3-website.eu-central-1.amazonaws.com/t10k-labels-idx1-ubyte.gz to data\\FashionMNIST\\raw\\t10k-labels-idx1-ubyte.gz\n"
     ]
    },
    {
     "name": "stderr",
     "output_type": "stream",
     "text": [
      "119.3%"
     ]
    },
    {
     "name": "stdout",
     "output_type": "stream",
     "text": [
      "Extracting data\\FashionMNIST\\raw\\t10k-labels-idx1-ubyte.gz to data\\FashionMNIST\\raw\n",
      "\n"
     ]
    },
    {
     "name": "stderr",
     "output_type": "stream",
     "text": [
      "\n"
     ]
    }
   ],
   "source": [
    "# Download training data from open datasets.\n",
    "training_data = datasets.FashionMNIST(\n",
    "    root=\"data\",\n",
    "    train=True,\n",
    "    download=True,\n",
    "    transform=ToTensor(),\n",
    ")"
   ]
  },
  {
   "cell_type": "code",
   "execution_count": 5,
   "metadata": {},
   "outputs": [],
   "source": [
    "# Download test data from open datasets.\n",
    "test_data = datasets.FashionMNIST(\n",
    "    root=\"data\",\n",
    "    train=False,\n",
    "    download=True,\n",
    "    transform=ToTensor(),\n",
    ")"
   ]
  },
  {
   "cell_type": "code",
   "execution_count": 6,
   "metadata": {},
   "outputs": [
    {
     "name": "stdout",
     "output_type": "stream",
     "text": [
      "Shape of X [N, C, H, W]: torch.Size([64, 1, 28, 28])\n",
      "Shape of y: torch.Size([64]) torch.int64\n"
     ]
    }
   ],
   "source": [
    "batch_size = 64\n",
    "\n",
    "# Create data loaders.\n",
    "train_dataloader = DataLoader(training_data, batch_size=batch_size)\n",
    "test_dataloader = DataLoader(test_data, batch_size=batch_size)\n",
    "\n",
    "for X, y in test_dataloader:\n",
    "    print(f\"Shape of X [N, C, H, W]: {X.shape}\")\n",
    "    print(f\"Shape of y: {y.shape} {y.dtype}\")\n",
    "    break"
   ]
  },
  {
   "cell_type": "code",
   "execution_count": 7,
   "metadata": {},
   "outputs": [
    {
     "name": "stdout",
     "output_type": "stream",
     "text": [
      "Using cpu device\n",
      "NeuralNetwork(\n",
      "  (flatten): Flatten(start_dim=1, end_dim=-1)\n",
      "  (linear_relu_stack): Sequential(\n",
      "    (0): Linear(in_features=784, out_features=512, bias=True)\n",
      "    (1): ReLU()\n",
      "    (2): Linear(in_features=512, out_features=512, bias=True)\n",
      "    (3): ReLU()\n",
      "    (4): Linear(in_features=512, out_features=10, bias=True)\n",
      "  )\n",
      ")\n"
     ]
    }
   ],
   "source": [
    "# Get cpu or gpu device for training.\n",
    "device = \"cuda\" if torch.cuda.is_available() else \"cpu\"\n",
    "print(f\"Using {device} device\")\n",
    "\n",
    "# Define model\n",
    "class NeuralNetwork(nn.Module):\n",
    "    def __init__(self):\n",
    "        super(NeuralNetwork, self).__init__()\n",
    "        self.flatten = nn.Flatten()\n",
    "        self.linear_relu_stack = nn.Sequential(\n",
    "            nn.Linear(28*28, 512),\n",
    "            nn.ReLU(),\n",
    "            nn.Linear(512, 512),\n",
    "            nn.ReLU(),\n",
    "            nn.Linear(512, 10)\n",
    "        )\n",
    "\n",
    "    def forward(self, x):\n",
    "        x = self.flatten(x)\n",
    "        logits = self.linear_relu_stack(x)\n",
    "        return logits\n",
    "\n",
    "model = NeuralNetwork().to(device)\n",
    "print(model)"
   ]
  },
  {
   "cell_type": "code",
   "execution_count": 8,
   "metadata": {},
   "outputs": [
    {
     "data": {
      "image/svg+xml": "<?xml version=\"1.0\" encoding=\"UTF-8\" standalone=\"no\"?>\n<!DOCTYPE svg PUBLIC \"-//W3C//DTD SVG 1.1//EN\"\n \"http://www.w3.org/Graphics/SVG/1.1/DTD/svg11.dtd\">\n<!-- Generated by graphviz version 3.0.0 (20220226.1711)\n -->\n<!-- Pages: 1 -->\n<svg width=\"412pt\" height=\"551pt\"\n viewBox=\"0.00 0.00 412.00 551.00\" xmlns=\"http://www.w3.org/2000/svg\" xmlns:xlink=\"http://www.w3.org/1999/xlink\">\n<g id=\"graph0\" class=\"graph\" transform=\"scale(1 1) rotate(0) translate(4 547)\">\n<polygon fill=\"white\" stroke=\"transparent\" points=\"-4,4 -4,-547 408,-547 408,4 -4,4\"/>\n<!-- 2079724748688 -->\n<g id=\"node1\" class=\"node\">\n<title>2079724748688</title>\n<polygon fill=\"#caff70\" stroke=\"black\" points=\"243,-31 178,-31 178,0 243,0 243,-31\"/>\n<text text-anchor=\"middle\" x=\"210.5\" y=\"-7\" font-family=\"monospace\" font-size=\"10.00\"> (1, 10)</text>\n</g>\n<!-- 2079728915408 -->\n<g id=\"node2\" class=\"node\">\n<title>2079728915408</title>\n<polygon fill=\"lightgrey\" stroke=\"black\" points=\"261,-86 160,-86 160,-67 261,-67 261,-86\"/>\n<text text-anchor=\"middle\" x=\"210.5\" y=\"-74\" font-family=\"monospace\" font-size=\"10.00\">AddmmBackward0</text>\n</g>\n<!-- 2079728915408&#45;&gt;2079724748688 -->\n<g id=\"edge20\" class=\"edge\">\n<title>2079728915408&#45;&gt;2079724748688</title>\n<path fill=\"none\" stroke=\"black\" d=\"M210.5,-66.79C210.5,-60.07 210.5,-50.4 210.5,-41.34\"/>\n<polygon fill=\"black\" stroke=\"black\" points=\"214,-41.19 210.5,-31.19 207,-41.19 214,-41.19\"/>\n</g>\n<!-- 2079728917760 -->\n<g id=\"node3\" class=\"node\">\n<title>2079728917760</title>\n<polygon fill=\"lightgrey\" stroke=\"black\" points=\"145,-141 44,-141 44,-122 145,-122 145,-141\"/>\n<text text-anchor=\"middle\" x=\"94.5\" y=\"-129\" font-family=\"monospace\" font-size=\"10.00\">AccumulateGrad</text>\n</g>\n<!-- 2079728917760&#45;&gt;2079728915408 -->\n<g id=\"edge1\" class=\"edge\">\n<title>2079728917760&#45;&gt;2079728915408</title>\n<path fill=\"none\" stroke=\"black\" d=\"M113.14,-121.98C131.8,-113.46 160.75,-100.23 182.24,-90.41\"/>\n<polygon fill=\"black\" stroke=\"black\" points=\"183.88,-93.51 191.52,-86.17 180.97,-87.14 183.88,-93.51\"/>\n</g>\n<!-- 2079704357040 -->\n<g id=\"node4\" class=\"node\">\n<title>2079704357040</title>\n<polygon fill=\"lightblue\" stroke=\"black\" points=\"121.5,-208 67.5,-208 67.5,-177 121.5,-177 121.5,-208\"/>\n<text text-anchor=\"middle\" x=\"94.5\" y=\"-184\" font-family=\"monospace\" font-size=\"10.00\"> (10)</text>\n</g>\n<!-- 2079704357040&#45;&gt;2079728917760 -->\n<g id=\"edge2\" class=\"edge\">\n<title>2079704357040&#45;&gt;2079728917760</title>\n<path fill=\"none\" stroke=\"black\" d=\"M94.5,-176.92C94.5,-169.22 94.5,-159.69 94.5,-151.43\"/>\n<polygon fill=\"black\" stroke=\"black\" points=\"98,-151.25 94.5,-141.25 91,-151.25 98,-151.25\"/>\n</g>\n<!-- 2079728916896 -->\n<g id=\"node5\" class=\"node\">\n<title>2079728916896</title>\n<polygon fill=\"lightgrey\" stroke=\"black\" points=\"258,-141 163,-141 163,-122 258,-122 258,-141\"/>\n<text text-anchor=\"middle\" x=\"210.5\" y=\"-129\" font-family=\"monospace\" font-size=\"10.00\">ReluBackward0</text>\n</g>\n<!-- 2079728916896&#45;&gt;2079728915408 -->\n<g id=\"edge3\" class=\"edge\">\n<title>2079728916896&#45;&gt;2079728915408</title>\n<path fill=\"none\" stroke=\"black\" d=\"M210.5,-121.75C210.5,-114.8 210.5,-104.85 210.5,-96.13\"/>\n<polygon fill=\"black\" stroke=\"black\" points=\"214,-96.09 210.5,-86.09 207,-96.09 214,-96.09\"/>\n</g>\n<!-- 2079728916464 -->\n<g id=\"node6\" class=\"node\">\n<title>2079728916464</title>\n<polygon fill=\"lightgrey\" stroke=\"black\" points=\"256,-202 155,-202 155,-183 256,-183 256,-202\"/>\n<text text-anchor=\"middle\" x=\"205.5\" y=\"-190\" font-family=\"monospace\" font-size=\"10.00\">AddmmBackward0</text>\n</g>\n<!-- 2079728916464&#45;&gt;2079728916896 -->\n<g id=\"edge4\" class=\"edge\">\n<title>2079728916464&#45;&gt;2079728916896</title>\n<path fill=\"none\" stroke=\"black\" d=\"M206.24,-182.79C206.94,-174.52 208.02,-161.79 208.91,-151.21\"/>\n<polygon fill=\"black\" stroke=\"black\" points=\"212.4,-151.5 209.76,-141.24 205.43,-150.91 212.4,-151.5\"/>\n</g>\n<!-- 2079728917328 -->\n<g id=\"node7\" class=\"node\">\n<title>2079728917328</title>\n<polygon fill=\"lightgrey\" stroke=\"black\" points=\"101,-269 0,-269 0,-250 101,-250 101,-269\"/>\n<text text-anchor=\"middle\" x=\"50.5\" y=\"-257\" font-family=\"monospace\" font-size=\"10.00\">AccumulateGrad</text>\n</g>\n<!-- 2079728917328&#45;&gt;2079728916464 -->\n<g id=\"edge5\" class=\"edge\">\n<title>2079728917328&#45;&gt;2079728916464</title>\n<path fill=\"none\" stroke=\"black\" d=\"M71.08,-249.87C97.83,-238.65 144.75,-218.98 175.47,-206.09\"/>\n<polygon fill=\"black\" stroke=\"black\" points=\"176.96,-209.26 184.83,-202.17 174.26,-202.81 176.96,-209.26\"/>\n</g>\n<!-- 2079704356960 -->\n<g id=\"node8\" class=\"node\">\n<title>2079704356960</title>\n<polygon fill=\"lightblue\" stroke=\"black\" points=\"77.5,-342 23.5,-342 23.5,-311 77.5,-311 77.5,-342\"/>\n<text text-anchor=\"middle\" x=\"50.5\" y=\"-318\" font-family=\"monospace\" font-size=\"10.00\"> (512)</text>\n</g>\n<!-- 2079704356960&#45;&gt;2079728917328 -->\n<g id=\"edge6\" class=\"edge\">\n<title>2079704356960&#45;&gt;2079728917328</title>\n<path fill=\"none\" stroke=\"black\" d=\"M50.5,-310.75C50.5,-301.39 50.5,-289.19 50.5,-279.16\"/>\n<polygon fill=\"black\" stroke=\"black\" points=\"54,-279.02 50.5,-269.02 47,-279.02 54,-279.02\"/>\n</g>\n<!-- 2079728916224 -->\n<g id=\"node9\" class=\"node\">\n<title>2079728916224</title>\n<polygon fill=\"lightgrey\" stroke=\"black\" points=\"214,-269 119,-269 119,-250 214,-250 214,-269\"/>\n<text text-anchor=\"middle\" x=\"166.5\" y=\"-257\" font-family=\"monospace\" font-size=\"10.00\">ReluBackward0</text>\n</g>\n<!-- 2079728916224&#45;&gt;2079728916464 -->\n<g id=\"edge7\" class=\"edge\">\n<title>2079728916224&#45;&gt;2079728916464</title>\n<path fill=\"none\" stroke=\"black\" d=\"M171.76,-249.73C177.72,-239.79 187.6,-223.34 195.13,-210.79\"/>\n<polygon fill=\"black\" stroke=\"black\" points=\"198.18,-212.5 200.32,-202.13 192.18,-208.9 198.18,-212.5\"/>\n</g>\n<!-- 2079728916992 -->\n<g id=\"node10\" class=\"node\">\n<title>2079728916992</title>\n<polygon fill=\"lightgrey\" stroke=\"black\" points=\"209,-336 108,-336 108,-317 209,-317 209,-336\"/>\n<text text-anchor=\"middle\" x=\"158.5\" y=\"-324\" font-family=\"monospace\" font-size=\"10.00\">AddmmBackward0</text>\n</g>\n<!-- 2079728916992&#45;&gt;2079728916224 -->\n<g id=\"edge8\" class=\"edge\">\n<title>2079728916992&#45;&gt;2079728916224</title>\n<path fill=\"none\" stroke=\"black\" d=\"M159.58,-316.73C160.75,-307.18 162.67,-291.62 164.19,-279.28\"/>\n<polygon fill=\"black\" stroke=\"black\" points=\"167.69,-279.48 165.44,-269.13 160.74,-278.62 167.69,-279.48\"/>\n</g>\n<!-- 2079728916848 -->\n<g id=\"node11\" class=\"node\">\n<title>2079728916848</title>\n<polygon fill=\"lightgrey\" stroke=\"black\" points=\"113,-403 12,-403 12,-384 113,-384 113,-403\"/>\n<text text-anchor=\"middle\" x=\"62.5\" y=\"-391\" font-family=\"monospace\" font-size=\"10.00\">AccumulateGrad</text>\n</g>\n<!-- 2079728916848&#45;&gt;2079728916992 -->\n<g id=\"edge9\" class=\"edge\">\n<title>2079728916848&#45;&gt;2079728916992</title>\n<path fill=\"none\" stroke=\"black\" d=\"M75.45,-383.73C91.35,-372.96 118.55,-354.55 137.47,-341.74\"/>\n<polygon fill=\"black\" stroke=\"black\" points=\"139.44,-344.63 145.76,-336.13 135.52,-338.84 139.44,-344.63\"/>\n</g>\n<!-- 2079728830320 -->\n<g id=\"node12\" class=\"node\">\n<title>2079728830320</title>\n<polygon fill=\"lightblue\" stroke=\"black\" points=\"89.5,-476 35.5,-476 35.5,-445 89.5,-445 89.5,-476\"/>\n<text text-anchor=\"middle\" x=\"62.5\" y=\"-452\" font-family=\"monospace\" font-size=\"10.00\"> (512)</text>\n</g>\n<!-- 2079728830320&#45;&gt;2079728916848 -->\n<g id=\"edge10\" class=\"edge\">\n<title>2079728830320&#45;&gt;2079728916848</title>\n<path fill=\"none\" stroke=\"black\" d=\"M62.5,-444.75C62.5,-435.39 62.5,-423.19 62.5,-413.16\"/>\n<polygon fill=\"black\" stroke=\"black\" points=\"66,-413.02 62.5,-403.02 59,-413.02 66,-413.02\"/>\n</g>\n<!-- 2079728917040 -->\n<g id=\"node13\" class=\"node\">\n<title>2079728917040</title>\n<polygon fill=\"lightgrey\" stroke=\"black\" points=\"208,-403 131,-403 131,-384 208,-384 208,-403\"/>\n<text text-anchor=\"middle\" x=\"169.5\" y=\"-391\" font-family=\"monospace\" font-size=\"10.00\">TBackward0</text>\n</g>\n<!-- 2079728917040&#45;&gt;2079728916992 -->\n<g id=\"edge11\" class=\"edge\">\n<title>2079728917040&#45;&gt;2079728916992</title>\n<path fill=\"none\" stroke=\"black\" d=\"M168.02,-383.73C166.4,-374.18 163.77,-358.62 161.68,-346.28\"/>\n<polygon fill=\"black\" stroke=\"black\" points=\"165.08,-345.4 159.96,-336.13 158.18,-346.57 165.08,-345.4\"/>\n</g>\n<!-- 2079728916704 -->\n<g id=\"node14\" class=\"node\">\n<title>2079728916704</title>\n<polygon fill=\"lightgrey\" stroke=\"black\" points=\"220,-470 119,-470 119,-451 220,-451 220,-470\"/>\n<text text-anchor=\"middle\" x=\"169.5\" y=\"-458\" font-family=\"monospace\" font-size=\"10.00\">AccumulateGrad</text>\n</g>\n<!-- 2079728916704&#45;&gt;2079728917040 -->\n<g id=\"edge12\" class=\"edge\">\n<title>2079728916704&#45;&gt;2079728917040</title>\n<path fill=\"none\" stroke=\"black\" d=\"M169.5,-450.73C169.5,-441.18 169.5,-425.62 169.5,-413.28\"/>\n<polygon fill=\"black\" stroke=\"black\" points=\"173,-413.13 169.5,-403.13 166,-413.13 173,-413.13\"/>\n</g>\n<!-- 2079704355280 -->\n<g id=\"node15\" class=\"node\">\n<title>2079704355280</title>\n<polygon fill=\"lightblue\" stroke=\"black\" points=\"211,-543 128,-543 128,-512 211,-512 211,-543\"/>\n<text text-anchor=\"middle\" x=\"169.5\" y=\"-519\" font-family=\"monospace\" font-size=\"10.00\"> (512, 784)</text>\n</g>\n<!-- 2079704355280&#45;&gt;2079728916704 -->\n<g id=\"edge13\" class=\"edge\">\n<title>2079704355280&#45;&gt;2079728916704</title>\n<path fill=\"none\" stroke=\"black\" d=\"M169.5,-511.75C169.5,-502.39 169.5,-490.19 169.5,-480.16\"/>\n<polygon fill=\"black\" stroke=\"black\" points=\"173,-480.02 169.5,-470.02 166,-480.02 173,-480.02\"/>\n</g>\n<!-- 2079728916032 -->\n<g id=\"node16\" class=\"node\">\n<title>2079728916032</title>\n<polygon fill=\"lightgrey\" stroke=\"black\" points=\"309,-269 232,-269 232,-250 309,-250 309,-269\"/>\n<text text-anchor=\"middle\" x=\"270.5\" y=\"-257\" font-family=\"monospace\" font-size=\"10.00\">TBackward0</text>\n</g>\n<!-- 2079728916032&#45;&gt;2079728916464 -->\n<g id=\"edge14\" class=\"edge\">\n<title>2079728916032&#45;&gt;2079728916464</title>\n<path fill=\"none\" stroke=\"black\" d=\"M261.73,-249.73C251.4,-239.4 234.04,-222.04 221.33,-209.33\"/>\n<polygon fill=\"black\" stroke=\"black\" points=\"223.67,-206.72 214.13,-202.13 218.72,-211.67 223.67,-206.72\"/>\n</g>\n<!-- 2079728916608 -->\n<g id=\"node17\" class=\"node\">\n<title>2079728916608</title>\n<polygon fill=\"lightgrey\" stroke=\"black\" points=\"328,-336 227,-336 227,-317 328,-317 328,-336\"/>\n<text text-anchor=\"middle\" x=\"277.5\" y=\"-324\" font-family=\"monospace\" font-size=\"10.00\">AccumulateGrad</text>\n</g>\n<!-- 2079728916608&#45;&gt;2079728916032 -->\n<g id=\"edge15\" class=\"edge\">\n<title>2079728916608&#45;&gt;2079728916032</title>\n<path fill=\"none\" stroke=\"black\" d=\"M276.56,-316.73C275.53,-307.18 273.85,-291.62 272.52,-279.28\"/>\n<polygon fill=\"black\" stroke=\"black\" points=\"275.98,-278.7 271.43,-269.13 269.02,-279.44 275.98,-278.7\"/>\n</g>\n<!-- 2079728830560 -->\n<g id=\"node18\" class=\"node\">\n<title>2079728830560</title>\n<polygon fill=\"lightblue\" stroke=\"black\" points=\"319,-409 236,-409 236,-378 319,-378 319,-409\"/>\n<text text-anchor=\"middle\" x=\"277.5\" y=\"-385\" font-family=\"monospace\" font-size=\"10.00\"> (512, 512)</text>\n</g>\n<!-- 2079728830560&#45;&gt;2079728916608 -->\n<g id=\"edge16\" class=\"edge\">\n<title>2079728830560&#45;&gt;2079728916608</title>\n<path fill=\"none\" stroke=\"black\" d=\"M277.5,-377.75C277.5,-368.39 277.5,-356.19 277.5,-346.16\"/>\n<polygon fill=\"black\" stroke=\"black\" points=\"281,-346.02 277.5,-336.02 274,-346.02 281,-346.02\"/>\n</g>\n<!-- 2079728917664 -->\n<g id=\"node19\" class=\"node\">\n<title>2079728917664</title>\n<polygon fill=\"lightgrey\" stroke=\"black\" points=\"361,-141 284,-141 284,-122 361,-122 361,-141\"/>\n<text text-anchor=\"middle\" x=\"322.5\" y=\"-129\" font-family=\"monospace\" font-size=\"10.00\">TBackward0</text>\n</g>\n<!-- 2079728917664&#45;&gt;2079728915408 -->\n<g id=\"edge17\" class=\"edge\">\n<title>2079728917664&#45;&gt;2079728915408</title>\n<path fill=\"none\" stroke=\"black\" d=\"M304.51,-121.98C286.57,-113.5 258.78,-100.35 238.07,-90.54\"/>\n<polygon fill=\"black\" stroke=\"black\" points=\"239.36,-87.28 228.82,-86.17 236.36,-93.61 239.36,-87.28\"/>\n</g>\n<!-- 2079728917088 -->\n<g id=\"node20\" class=\"node\">\n<title>2079728917088</title>\n<polygon fill=\"lightgrey\" stroke=\"black\" points=\"377,-202 276,-202 276,-183 377,-183 377,-202\"/>\n<text text-anchor=\"middle\" x=\"326.5\" y=\"-190\" font-family=\"monospace\" font-size=\"10.00\">AccumulateGrad</text>\n</g>\n<!-- 2079728917088&#45;&gt;2079728917664 -->\n<g id=\"edge18\" class=\"edge\">\n<title>2079728917088&#45;&gt;2079728917664</title>\n<path fill=\"none\" stroke=\"black\" d=\"M325.91,-182.79C325.35,-174.6 324.5,-162.06 323.79,-151.55\"/>\n<polygon fill=\"black\" stroke=\"black\" points=\"327.26,-150.98 323.09,-141.24 320.28,-151.46 327.26,-150.98\"/>\n</g>\n<!-- 2079704357120 -->\n<g id=\"node21\" class=\"node\">\n<title>2079704357120</title>\n<polygon fill=\"lightblue\" stroke=\"black\" points=\"404,-275 327,-275 327,-244 404,-244 404,-275\"/>\n<text text-anchor=\"middle\" x=\"365.5\" y=\"-251\" font-family=\"monospace\" font-size=\"10.00\"> (10, 512)</text>\n</g>\n<!-- 2079704357120&#45;&gt;2079728917088 -->\n<g id=\"edge19\" class=\"edge\">\n<title>2079704357120&#45;&gt;2079728917088</title>\n<path fill=\"none\" stroke=\"black\" d=\"M356.65,-243.75C350.79,-233.99 343.08,-221.14 336.93,-210.88\"/>\n<polygon fill=\"black\" stroke=\"black\" points=\"339.76,-208.79 331.61,-202.02 333.75,-212.39 339.76,-208.79\"/>\n</g>\n</g>\n</svg>\n",
      "text/plain": [
       "<graphviz.graphs.Digraph at 0x1e43980d250>"
      ]
     },
     "execution_count": 8,
     "metadata": {},
     "output_type": "execute_result"
    }
   ],
   "source": [
    "input = torch.rand((1,28*28))\n",
    "make_dot(model(input))"
   ]
  },
  {
   "cell_type": "code",
   "execution_count": 9,
   "metadata": {},
   "outputs": [
    {
     "data": {
      "text/plain": [
       "Linear(in_features=20, out_features=30, bias=True)"
      ]
     },
     "execution_count": 9,
     "metadata": {},
     "output_type": "execute_result"
    }
   ],
   "source": [
    "nn.Linear(20,30)"
   ]
  },
  {
   "cell_type": "code",
   "execution_count": 10,
   "metadata": {},
   "outputs": [
    {
     "name": "stdout",
     "output_type": "stream",
     "text": [
      "tensor([-1.0131,  0.5171, -0.6240])\n",
      "tensor([-0.4684, -0.5799, -0.0860,  0.0410], grad_fn=<AddBackward0>)\n"
     ]
    }
   ],
   "source": [
    "m = nn.Linear(3,4)\n",
    "dataIn = torch.randn(3)\n",
    "dataOut = m(dataIn)\n",
    "print(dataIn)\n",
    "print(dataOut)\n"
   ]
  },
  {
   "cell_type": "code",
   "execution_count": 11,
   "metadata": {},
   "outputs": [
    {
     "name": "stdout",
     "output_type": "stream",
     "text": [
      "tensor([-0.4684, -0.5799, -0.0860,  0.0410], grad_fn=<AddBackward0>)\n",
      "tensor([0.0000, 0.0000, 0.0000, 0.0410], grad_fn=<ReluBackward0>)\n"
     ]
    }
   ],
   "source": [
    "r = nn.ReLU()\n",
    "dataIn = dataOut\n",
    "dataOut = r(dataIn)\n",
    "print(dataIn)\n",
    "print(dataOut)\n"
   ]
  },
  {
   "cell_type": "code",
   "execution_count": 12,
   "metadata": {},
   "outputs": [
    {
     "name": "stdout",
     "output_type": "stream",
     "text": [
      "Parameter containing:\n",
      "tensor([[ 0.2639,  0.5182,  0.3720],\n",
      "        [ 0.4695, -0.4591, -0.0356],\n",
      "        [ 0.1279,  0.5328,  0.2320],\n",
      "        [-0.0039,  0.2174,  0.2410]], requires_grad=True)\n",
      "Parameter containing:\n",
      "tensor([-0.2369,  0.1109, -0.0871,  0.0750], requires_grad=True)\n"
     ]
    }
   ],
   "source": [
    "print(m.weight)\n",
    "print(m.bias)"
   ]
  },
  {
   "cell_type": "code",
   "execution_count": 13,
   "metadata": {},
   "outputs": [
    {
     "data": {
      "text/plain": [
       "array([[ 0.26385605,  0.51817274,  0.37203956],\n",
       "       [ 0.4694947 , -0.45912716, -0.03556281],\n",
       "       [ 0.12793732,  0.5328225 ,  0.23202306],\n",
       "       [-0.00393945,  0.21736848,  0.24101293]], dtype=float32)"
      ]
     },
     "execution_count": 13,
     "metadata": {},
     "output_type": "execute_result"
    }
   ],
   "source": [
    "m.weight.detach().cpu().numpy()"
   ]
  },
  {
   "cell_type": "code",
   "execution_count": 14,
   "metadata": {},
   "outputs": [
    {
     "data": {
      "text/plain": [
       "<generator object Module.named_parameters at 0x000001E4397FE580>"
      ]
     },
     "execution_count": 14,
     "metadata": {},
     "output_type": "execute_result"
    }
   ],
   "source": [
    "model.named_parameters()"
   ]
  },
  {
   "cell_type": "code",
   "execution_count": 15,
   "metadata": {},
   "outputs": [
    {
     "name": "stdout",
     "output_type": "stream",
     "text": [
      "linear_relu_stack.0.weight\n",
      "linear_relu_stack.0.bias\n",
      "linear_relu_stack.2.weight\n",
      "linear_relu_stack.2.bias\n",
      "linear_relu_stack.4.weight\n",
      "linear_relu_stack.4.bias\n"
     ]
    }
   ],
   "source": [
    "for a, b in model.named_parameters():\n",
    "    print(a)"
   ]
  },
  {
   "cell_type": "code",
   "execution_count": 16,
   "metadata": {},
   "outputs": [],
   "source": [
    "def check(a):\n",
    "    print(f'grad_fn: {a.grad_fn}')\n",
    "    print(f'is_leaf: {a.is_leaf}')\n",
    "    print(f'grad: {a.grad}')\n",
    "    print('----')\n"
   ]
  },
  {
   "cell_type": "code",
   "execution_count": 17,
   "metadata": {},
   "outputs": [],
   "source": [
    "def forward(c, a, w, l):\n",
    "    for i in range(1, l+1):\n",
    "        c = w*a + c\n",
    "    return c"
   ]
  },
  {
   "cell_type": "code",
   "execution_count": 18,
   "metadata": {},
   "outputs": [
    {
     "data": {
      "image/svg+xml": "<?xml version=\"1.0\" encoding=\"UTF-8\" standalone=\"no\"?>\n<!DOCTYPE svg PUBLIC \"-//W3C//DTD SVG 1.1//EN\"\n \"http://www.w3.org/Graphics/SVG/1.1/DTD/svg11.dtd\">\n<!-- Generated by graphviz version 3.0.0 (20220226.1711)\n -->\n<!-- Pages: 1 -->\n<svg width=\"350pt\" height=\"436pt\"\n viewBox=\"0.00 0.00 350.00 436.00\" xmlns=\"http://www.w3.org/2000/svg\" xmlns:xlink=\"http://www.w3.org/1999/xlink\">\n<g id=\"graph0\" class=\"graph\" transform=\"scale(1 1) rotate(0) translate(4 432)\">\n<polygon fill=\"white\" stroke=\"transparent\" points=\"-4,4 -4,-432 346,-432 346,4 -4,4\"/>\n<!-- 2079728608976 -->\n<g id=\"node1\" class=\"node\">\n<title>2079728608976</title>\n<polygon fill=\"#caff70\" stroke=\"black\" points=\"107.5,-31 53.5,-31 53.5,0 107.5,0 107.5,-31\"/>\n<text text-anchor=\"middle\" x=\"80.5\" y=\"-7\" font-family=\"monospace\" font-size=\"10.00\"> (2)</text>\n</g>\n<!-- 2079728929808 -->\n<g id=\"node2\" class=\"node\">\n<title>2079728929808</title>\n<polygon fill=\"lightgrey\" stroke=\"black\" points=\"125,-86 36,-86 36,-67 125,-67 125,-86\"/>\n<text text-anchor=\"middle\" x=\"80.5\" y=\"-74\" font-family=\"monospace\" font-size=\"10.00\">AddBackward0</text>\n</g>\n<!-- 2079728929808&#45;&gt;2079728608976 -->\n<g id=\"edge13\" class=\"edge\">\n<title>2079728929808&#45;&gt;2079728608976</title>\n<path fill=\"none\" stroke=\"black\" d=\"M80.5,-66.79C80.5,-60.07 80.5,-50.4 80.5,-41.34\"/>\n<polygon fill=\"black\" stroke=\"black\" points=\"84,-41.19 80.5,-31.19 77,-41.19 84,-41.19\"/>\n</g>\n<!-- 2079728929856 -->\n<g id=\"node3\" class=\"node\">\n<title>2079728929856</title>\n<polygon fill=\"lightgrey\" stroke=\"black\" points=\"89,-251 0,-251 0,-232 89,-232 89,-251\"/>\n<text text-anchor=\"middle\" x=\"44.5\" y=\"-239\" font-family=\"monospace\" font-size=\"10.00\">MulBackward0</text>\n</g>\n<!-- 2079728929856&#45;&gt;2079728929808 -->\n<g id=\"edge1\" class=\"edge\">\n<title>2079728929856&#45;&gt;2079728929808</title>\n<path fill=\"none\" stroke=\"black\" d=\"M45.28,-231.75C47.18,-211.94 52.71,-162.25 63.5,-122 65.88,-113.11 69.4,-103.55 72.63,-95.57\"/>\n<polygon fill=\"black\" stroke=\"black\" points=\"75.92,-96.76 76.57,-86.19 69.47,-94.05 75.92,-96.76\"/>\n</g>\n<!-- 2079728927984 -->\n<g id=\"node4\" class=\"node\">\n<title>2079728927984</title>\n<polygon fill=\"lightgrey\" stroke=\"black\" points=\"204,-361 103,-361 103,-342 204,-342 204,-361\"/>\n<text text-anchor=\"middle\" x=\"153.5\" y=\"-349\" font-family=\"monospace\" font-size=\"10.00\">AccumulateGrad</text>\n</g>\n<!-- 2079728927984&#45;&gt;2079728929856 -->\n<g id=\"edge2\" class=\"edge\">\n<title>2079728927984&#45;&gt;2079728929856</title>\n<path fill=\"none\" stroke=\"black\" d=\"M143.29,-341.91C133,-333.14 116.79,-319.01 103.5,-306 87.8,-290.63 70.81,-272.14 59.12,-259.08\"/>\n<polygon fill=\"black\" stroke=\"black\" points=\"61.52,-256.52 52.26,-251.37 56.29,-261.17 61.52,-256.52\"/>\n</g>\n<!-- 2079728930288 -->\n<g id=\"node7\" class=\"node\">\n<title>2079728930288</title>\n<polygon fill=\"lightgrey\" stroke=\"black\" points=\"162,-196 73,-196 73,-177 162,-177 162,-196\"/>\n<text text-anchor=\"middle\" x=\"117.5\" y=\"-184\" font-family=\"monospace\" font-size=\"10.00\">MulBackward0</text>\n</g>\n<!-- 2079728927984&#45;&gt;2079728930288 -->\n<g id=\"edge6\" class=\"edge\">\n<title>2079728927984&#45;&gt;2079728930288</title>\n<path fill=\"none\" stroke=\"black\" d=\"M149.57,-341.81C145.71,-332.97 139.93,-318.78 136.5,-306 127.23,-271.41 121.84,-229.85 119.3,-206.27\"/>\n<polygon fill=\"black\" stroke=\"black\" points=\"122.78,-205.85 118.28,-196.25 115.81,-206.56 122.78,-205.85\"/>\n</g>\n<!-- 2079728927888 -->\n<g id=\"node9\" class=\"node\">\n<title>2079728927888</title>\n<polygon fill=\"lightgrey\" stroke=\"black\" points=\"235,-306 146,-306 146,-287 235,-287 235,-306\"/>\n<text text-anchor=\"middle\" x=\"190.5\" y=\"-294\" font-family=\"monospace\" font-size=\"10.00\">MulBackward0</text>\n</g>\n<!-- 2079728927984&#45;&gt;2079728927888 -->\n<g id=\"edge9\" class=\"edge\">\n<title>2079728927984&#45;&gt;2079728927888</title>\n<path fill=\"none\" stroke=\"black\" d=\"M159.61,-341.75C164.78,-334.34 172.35,-323.5 178.69,-314.41\"/>\n<polygon fill=\"black\" stroke=\"black\" points=\"181.65,-316.29 184.5,-306.09 175.91,-312.29 181.65,-316.29\"/>\n</g>\n<!-- 2079728930096 -->\n<g id=\"node11\" class=\"node\">\n<title>2079728930096</title>\n<polygon fill=\"lightgrey\" stroke=\"black\" points=\"342,-306 253,-306 253,-287 342,-287 342,-306\"/>\n<text text-anchor=\"middle\" x=\"297.5\" y=\"-294\" font-family=\"monospace\" font-size=\"10.00\">MulBackward0</text>\n</g>\n<!-- 2079728927984&#45;&gt;2079728930096 -->\n<g id=\"edge12\" class=\"edge\">\n<title>2079728927984&#45;&gt;2079728930096</title>\n<path fill=\"none\" stroke=\"black\" d=\"M176.64,-341.98C200.32,-333.27 237.37,-319.63 264.21,-309.75\"/>\n<polygon fill=\"black\" stroke=\"black\" points=\"265.77,-312.91 273.94,-306.17 263.35,-306.34 265.77,-312.91\"/>\n</g>\n<!-- 2079728074160 -->\n<g id=\"node5\" class=\"node\">\n<title>2079728074160</title>\n<polygon fill=\"lightblue\" stroke=\"black\" points=\"180.5,-428 126.5,-428 126.5,-397 180.5,-397 180.5,-428\"/>\n<text text-anchor=\"middle\" x=\"153.5\" y=\"-404\" font-family=\"monospace\" font-size=\"10.00\"> (2)</text>\n</g>\n<!-- 2079728074160&#45;&gt;2079728927984 -->\n<g id=\"edge3\" class=\"edge\">\n<title>2079728074160&#45;&gt;2079728927984</title>\n<path fill=\"none\" stroke=\"black\" d=\"M153.5,-396.92C153.5,-389.22 153.5,-379.69 153.5,-371.43\"/>\n<polygon fill=\"black\" stroke=\"black\" points=\"157,-371.25 153.5,-361.25 150,-371.25 157,-371.25\"/>\n</g>\n<!-- 2079728929712 -->\n<g id=\"node6\" class=\"node\">\n<title>2079728929712</title>\n<polygon fill=\"lightgrey\" stroke=\"black\" points=\"162,-141 73,-141 73,-122 162,-122 162,-141\"/>\n<text text-anchor=\"middle\" x=\"117.5\" y=\"-129\" font-family=\"monospace\" font-size=\"10.00\">AddBackward0</text>\n</g>\n<!-- 2079728929712&#45;&gt;2079728929808 -->\n<g id=\"edge4\" class=\"edge\">\n<title>2079728929712&#45;&gt;2079728929808</title>\n<path fill=\"none\" stroke=\"black\" d=\"M111.39,-121.75C106.22,-114.34 98.65,-103.5 92.31,-94.41\"/>\n<polygon fill=\"black\" stroke=\"black\" points=\"95.09,-92.29 86.5,-86.09 89.35,-96.29 95.09,-92.29\"/>\n</g>\n<!-- 2079728930288&#45;&gt;2079728929712 -->\n<g id=\"edge5\" class=\"edge\">\n<title>2079728930288&#45;&gt;2079728929712</title>\n<path fill=\"none\" stroke=\"black\" d=\"M117.5,-176.75C117.5,-169.8 117.5,-159.85 117.5,-151.13\"/>\n<polygon fill=\"black\" stroke=\"black\" points=\"121,-151.09 117.5,-141.09 114,-151.09 121,-151.09\"/>\n</g>\n<!-- 2079728930240 -->\n<g id=\"node8\" class=\"node\">\n<title>2079728930240</title>\n<polygon fill=\"lightgrey\" stroke=\"black\" points=\"269,-196 180,-196 180,-177 269,-177 269,-196\"/>\n<text text-anchor=\"middle\" x=\"224.5\" y=\"-184\" font-family=\"monospace\" font-size=\"10.00\">AddBackward0</text>\n</g>\n<!-- 2079728930240&#45;&gt;2079728929712 -->\n<g id=\"edge7\" class=\"edge\">\n<title>2079728930240&#45;&gt;2079728929712</title>\n<path fill=\"none\" stroke=\"black\" d=\"M207.31,-176.98C190.25,-168.54 163.87,-155.47 144.1,-145.68\"/>\n<polygon fill=\"black\" stroke=\"black\" points=\"145.52,-142.47 135,-141.17 142.41,-148.75 145.52,-142.47\"/>\n</g>\n<!-- 2079728927888&#45;&gt;2079728930240 -->\n<g id=\"edge8\" class=\"edge\">\n<title>2079728927888&#45;&gt;2079728930240</title>\n<path fill=\"none\" stroke=\"black\" d=\"M193.28,-286.66C198.81,-269.09 211.29,-229.45 218.69,-205.95\"/>\n<polygon fill=\"black\" stroke=\"black\" points=\"222.11,-206.75 221.77,-196.16 215.43,-204.65 222.11,-206.75\"/>\n</g>\n<!-- 2079728930192 -->\n<g id=\"node10\" class=\"node\">\n<title>2079728930192</title>\n<polygon fill=\"lightgrey\" stroke=\"black\" points=\"333,-251 244,-251 244,-232 333,-232 333,-251\"/>\n<text text-anchor=\"middle\" x=\"288.5\" y=\"-239\" font-family=\"monospace\" font-size=\"10.00\">AddBackward0</text>\n</g>\n<!-- 2079728930192&#45;&gt;2079728930240 -->\n<g id=\"edge10\" class=\"edge\">\n<title>2079728930192&#45;&gt;2079728930240</title>\n<path fill=\"none\" stroke=\"black\" d=\"M278.22,-231.98C268.66,-224.07 254.22,-212.11 242.72,-202.58\"/>\n<polygon fill=\"black\" stroke=\"black\" points=\"244.9,-199.85 234.97,-196.17 240.44,-205.24 244.9,-199.85\"/>\n</g>\n<!-- 2079728930096&#45;&gt;2079728930192 -->\n<g id=\"edge11\" class=\"edge\">\n<title>2079728930096&#45;&gt;2079728930192</title>\n<path fill=\"none\" stroke=\"black\" d=\"M296.01,-286.75C294.83,-279.8 293.14,-269.85 291.66,-261.13\"/>\n<polygon fill=\"black\" stroke=\"black\" points=\"295.08,-260.36 289.96,-251.09 288.18,-261.53 295.08,-260.36\"/>\n</g>\n</g>\n</svg>\n",
      "text/plain": [
       "<graphviz.graphs.Digraph at 0x1e439810be0>"
      ]
     },
     "execution_count": 18,
     "metadata": {},
     "output_type": "execute_result"
    }
   ],
   "source": [
    "L = torch.tensor([0.,0.], requires_grad=True)\n",
    "a = torch.tensor([1.0,2.0])\n",
    "w = torch.tensor([3.0,4.0], requires_grad=True)\n",
    "c = torch.tensor([0.,0.])\n",
    "\n",
    "make_dot(forward(c, a, w, 4))"
   ]
  },
  {
   "cell_type": "code",
   "execution_count": 19,
   "metadata": {},
   "outputs": [
    {
     "name": "stdout",
     "output_type": "stream",
     "text": [
      "grad_fn: None\n",
      "is_leaf: True\n",
      "grad: None\n",
      "----\n"
     ]
    }
   ],
   "source": [
    "check(w)\n",
    "# check(b)\n",
    "# check(c)\n",
    "# check(L)"
   ]
  },
  {
   "cell_type": "code",
   "execution_count": 20,
   "metadata": {},
   "outputs": [
    {
     "name": "stdout",
     "output_type": "stream",
     "text": [
      "tensor([ 6., 16.])\n",
      "tensor([12., 32.])\n",
      "tensor([18., 48.])\n",
      "tensor([24., 64.])\n",
      "tensor([30., 80.])\n",
      "tensor([36., 96.])\n",
      "tensor([ 42., 112.])\n",
      "tensor([ 48., 128.])\n",
      "tensor([ 54., 144.])\n"
     ]
    }
   ],
   "source": [
    "a = torch.tensor([1.0,2.0])\n",
    "w = torch.tensor([3.0,4.0], requires_grad=True)\n",
    "c = torch.tensor([0.,0.])\n",
    "for i in range(1,10):\n",
    "    loss = forward(c, a, w, 2)\n",
    "    c = loss.detach()\n",
    "    print(c)\n",
    "    external_grad = torch.tensor([1.,1.])\n",
    "    loss.backward(gradient=external_grad)"
   ]
  },
  {
   "cell_type": "code",
   "execution_count": 21,
   "metadata": {},
   "outputs": [
    {
     "name": "stdout",
     "output_type": "stream",
     "text": [
      "grad_fn: None\n",
      "is_leaf: True\n",
      "grad: tensor([18., 36.])\n",
      "----\n"
     ]
    }
   ],
   "source": [
    "check(w)"
   ]
  }
 ],
 "metadata": {
  "interpreter": {
   "hash": "d1b9c7f2f57af8f07e064f2c72ed76cd3499c7b2fb82bb3d901b6e74555bba53"
  },
  "kernelspec": {
   "display_name": "Python 3.9.12 ('pytorch')",
   "language": "python",
   "name": "python3"
  },
  "language_info": {
   "codemirror_mode": {
    "name": "ipython",
    "version": 3
   },
   "file_extension": ".py",
   "mimetype": "text/x-python",
   "name": "python",
   "nbconvert_exporter": "python",
   "pygments_lexer": "ipython3",
   "version": "3.9.12"
  },
  "orig_nbformat": 4
 },
 "nbformat": 4,
 "nbformat_minor": 2
}
