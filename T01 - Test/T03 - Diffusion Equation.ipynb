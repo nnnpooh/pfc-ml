{
 "cells": [
  {
   "cell_type": "code",
   "execution_count": 186,
   "metadata": {},
   "outputs": [],
   "source": [
    "from IPython.display import clear_output\n",
    "import matplotlib.pyplot as plt\n",
    "import numpy as np\n",
    "import time\n",
    "import pickle\n"
   ]
  },
  {
   "cell_type": "code",
   "execution_count": 187,
   "metadata": {},
   "outputs": [],
   "source": [
    "Pi = np.pi\n",
    "n = 32\n",
    "L = 2 * np.pi\n",
    "dx = L / n\n",
    "dt = 0.01\n",
    "tf = 100\n"
   ]
  },
  {
   "cell_type": "code",
   "execution_count": 188,
   "metadata": {},
   "outputs": [
    {
     "data": {
      "text/plain": [
       "6.0"
      ]
     },
     "execution_count": 188,
     "metadata": {},
     "output_type": "execute_result"
    }
   ],
   "source": [
    "n / 2 - 10\n",
    "\n"
   ]
  },
  {
   "cell_type": "code",
   "execution_count": 189,
   "metadata": {},
   "outputs": [
    {
     "data": {
      "text/plain": [
       "[<matplotlib.lines.Line2D at 0x7ff86f109a60>]"
      ]
     },
     "execution_count": 189,
     "metadata": {},
     "output_type": "execute_result"
    },
    {
     "data": {
      "image/png": "[encoded data removed]",
      "text/plain": [
       "<Figure size 432x288 with 1 Axes>"
      ]
     },
     "metadata": {
      "needs_background": "light"
     },
     "output_type": "display_data"
    }
   ],
   "source": [
    "# x and y\n",
    "x = np.linspace(0, 2 * Pi - dx, n)\n",
    "# y = np.random.random(n)\n",
    "\n",
    "y = np.zeros((n,))\n",
    "\n",
    "width = int(np.floor(n * 0.1))\n",
    "left = int(n / 2 - width)\n",
    "right = int(n / 2 + width)\n",
    "y[left:right] = 1\n",
    "\n",
    "plt.figure()\n",
    "plt.plot(x, y, \"*--\")\n"
   ]
  },
  {
   "cell_type": "markdown",
   "metadata": {},
   "source": [
    "$ \\frac{\\partial y}{\\partial t} = \\frac{\\partial^2 y }{\\partial x^2} $\n",
    "\n",
    "$ \\frac{ \\partial \\hat{y} }{\\partial t } = -|k|^2 \\hat{y}$\n",
    "\n",
    "$ \\frac{\\hat{y}^{t+1} - \\hat{y}^{t}}{\\Delta t} = -|k|^2 \\hat{y}^{t+1}$\n",
    "\n",
    "$ \\hat{y}^{t+1} - \\hat{y}^{t} = -\\Delta t|k|^2 \\hat{y}^{t+1}$\n",
    "\n",
    "$ \\hat{y}^{t+1} + \\Delta t|k|^2 \\hat{y}^{t+1} = \\hat{y}^{t} $\n",
    "\n",
    "$ \\hat{y}^{t+1} = \\frac{\\hat{y}^{t}} {1 + \\Delta t|k|^2} $\n"
   ]
  },
  {
   "cell_type": "code",
   "execution_count": 190,
   "metadata": {},
   "outputs": [],
   "source": [
    "def live_plot(x, y, figsize=(7, 5), title=\"\", ylim=[0, 1]):\n",
    "    clear_output(wait=True)\n",
    "    plt.figure(figsize=figsize)\n",
    "    plt.plot(x, np.real(y), \"*-\")\n",
    "    plt.ylim(ylim)\n",
    "    plt.title(title)\n",
    "    plt.grid(True)\n",
    "    plt.show()\n",
    "    plt.pause(0.1)\n"
   ]
  },
  {
   "cell_type": "code",
   "execution_count": 191,
   "metadata": {},
   "outputs": [],
   "source": [
    "%matplotlib inline\n",
    "\n",
    "yOld = y\n",
    "ylim = [np.min(y), np.max(y)]\n",
    "k = 2 * Pi / L * np.concatenate((np.arange(0, n / 2), np.arange(-n / 2, 0)))  # or np.fft.fftfreq(100, d=dx/L)\n",
    "k2 = np.power(k, 2)\n",
    "\n",
    "data = y.reshape(1,-1)\n",
    "tArray = np.array([0])\n",
    "for t in range(0,tf):\n",
    "    yOldHat = np.fft.fft(yOld)\n",
    "    yNewHat = np.divide(yOldHat , 1 + dt*k2)\n",
    "    yNew = np.fft.ifft(yNewHat)\n",
    "    yOld = np.real(yNew)\n",
    "    data = np.append(data, yOld.reshape(1,-1), axis=0)\n",
    "    tArray = np.append(tArray, t*dt)\n",
    "    # live_plot(x, yOld, title=f't={t}', ylim=ylim)\n"
   ]
  },
  {
   "cell_type": "code",
   "execution_count": 192,
   "metadata": {},
   "outputs": [],
   "source": [
    "store_data = {\n",
    "    \"data\": data,\n",
    "    \"timeArray\": tArray,\n",
    "    \"dt\": dt,\n",
    "    \"n\": n,\n",
    "    \"L\": L,\n",
    "    \"dx\": dx,\n",
    "    \"tf\": tf,\n",
    "}\n",
    "\n",
    "# Store data (serialize)\n",
    "with open(\"filename.pickle\", \"wb\") as handle:\n",
    "    pickle.dump(store_data, handle, protocol=pickle.HIGHEST_PROTOCOL)\n"
   ]
  }
 ],
 "metadata": {
  "interpreter": {
   "hash": "0642d352688046ffc545bd83b6505fb4d52c124974e6cdfca14d48ef488e0666"
  },
  "kernelspec": {
   "display_name": "Python 3.9.12 ('tf')",
   "language": "python",
   "name": "python3"
  },
  "language_info": {
   "codemirror_mode": {
    "name": "ipython",
    "version": 3
   },
   "file_extension": ".py",
   "mimetype": "text/x-python",
   "name": "python",
   "nbconvert_exporter": "python",
   "pygments_lexer": "ipython3",
   "version": "3.9.12"
  },
  "orig_nbformat": 4
 },
 "nbformat": 4,
 "nbformat_minor": 2
}
